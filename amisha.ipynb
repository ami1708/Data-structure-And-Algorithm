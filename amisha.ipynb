{
  "nbformat": 4,
  "nbformat_minor": 0,
  "metadata": {
    "colab": {
      "name": "amisha",
      "provenance": [],
      "collapsed_sections": [],
      "authorship_tag": "ABX9TyNUjKxQb3M3/MyFDxuYkZ6W",
      "include_colab_link": true
    },
    "kernelspec": {
      "name": "python3",
      "display_name": "Python 3"
    }
  },
  "cells": [
    {
      "cell_type": "markdown",
      "metadata": {
        "id": "view-in-github",
        "colab_type": "text"
      },
      "source": [
        "<a href=\"https://colab.research.google.com/github/ami1708/Data-structure-And-Algorithm/blob/master/amisha.ipynb\" target=\"_parent\"><img src=\"https://colab.research.google.com/assets/colab-badge.svg\" alt=\"Open In Colab\"/></a>"
      ]
    },
    {
      "cell_type": "code",
      "metadata": {
        "colab": {
          "base_uri": "https://localhost:8080/"
        },
        "id": "9bVmYLIhZVx9",
        "outputId": "8b80fe4b-ccbf-434b-acc8-77f92a248f04"
      },
      "source": [
        "def dup(arr,n):\n",
        "  i =0\n",
        "  while  i<n:\n",
        "    arr.sort()\n",
        "    if arr[i-1]==arr[i]:\n",
        "      print (arr[i])\n",
        "    i+=1\n",
        " \n",
        "arr = [1,2,4,4,8,2,7]\n",
        "n  = len(arr)\n",
        "print(dup(arr,n))"
      ],
      "execution_count": null,
      "outputs": [
        {
          "output_type": "stream",
          "text": [
            "2\n",
            "4\n",
            "None\n"
          ],
          "name": "stdout"
        }
      ]
    },
    {
      "cell_type": "code",
      "metadata": {
        "colab": {
          "base_uri": "https://localhost:8080/"
        },
        "id": "2J7L7PkM4KkH",
        "outputId": "0d12ba09-42e6-49ed-bb3a-27a31ef23279"
      },
      "source": [
        "'''    \r\n",
        "class Node:\r\n",
        "    def __init__(self,data):\r\n",
        "        self.data=data\r\n",
        "        self.next=None\r\n",
        "'''\r\n",
        "# function inserts data x in front of list and returns new head \r\n",
        "def insertAtBegining(head,x):\r\n",
        "    temp = Node(x)\r\n",
        "    if head is None:\r\n",
        "        return temp\r\n",
        "    temp.next = head\r\n",
        "    head = temp\r\n",
        "    return temp\r\n",
        "    \r\n",
        "    \r\n",
        "    # code here \r\n",
        "\r\n",
        "# function appends data x at the end of list and returns new head\r\n",
        "def insertAtEnd(head,x):\r\n",
        "    temp = Node(x)\r\n",
        "    if head is None:\r\n",
        "        return temp\r\n",
        "        ptr = head\r\n",
        "        while(ptr.next):\r\n",
        "            ptr= ptr.next\r\n",
        "        ptr.next = temp\r\n",
        "        return head\r\n",
        "   \r\n",
        "\r\n",
        "\r\n",
        "\r\n",
        "\r\n",
        "#{ \r\n",
        "#  Driver Code Starts\r\n",
        "class Node:\r\n",
        "    def __init__(self,data):\r\n",
        "        self.data=data\r\n",
        "        self.next=None\r\n",
        "\r\n",
        "class LinkedList:\r\n",
        "    def __init__(self):\r\n",
        "        self.head=None\r\n",
        "\r\n",
        "def printList(head):\r\n",
        "    while head:\r\n",
        "        print(head.data,end=' ')\r\n",
        "        head=head.next\r\n",
        "    print()\r\n",
        "\r\n",
        "if __name__ == '__main__':\r\n",
        "    t=int(input())\r\n",
        "    for cases in range(t):\r\n",
        "        n=int(input())\r\n",
        "        a=LinkedList()\r\n",
        "        \r\n",
        "        nodes_info=list(map(int,input().split()))\r\n",
        "        for i in range(0,len(nodes_info)-1,2):\r\n",
        "            if(nodes_info[i+1]==0):\r\n",
        "                a.head = insertAtBegining(a.head,nodes_info[i])\r\n",
        "            else:\r\n",
        "                a.head = insertAtEnd(a.head,nodes_info[i])\r\n",
        "        printList(a.head)\r\n",
        "\r\n",
        " \r\n",
        "# } Driver Code Ends"
      ],
      "execution_count": null,
      "outputs": [
        {
          "output_type": "stream",
          "text": [
            "2\n",
            "3\n"
          ],
          "name": "stdout"
        }
      ]
    },
    {
      "cell_type": "code",
      "metadata": {
        "id": "z3d4v9gp2ktT"
      },
      "source": [
        "class Node:\r\n",
        "  def __init__(self,data):\r\n",
        "    self.data = data\r\n",
        "    self.next = None\r\n",
        "\r\n",
        "class LinkedList:\r\n",
        "  def __init__(self):\r\n",
        "    self.head = None\r\n",
        "\r\n",
        "\r\n",
        "if __name__=='__main__': \r\n",
        "  llist = LinkedList()\r\n",
        "  llist.head = Node(1)\r\n",
        "  second = Node(2)\r\n",
        "  third = Node(3)\r\n",
        "  llist.head.next = second\r\n",
        "  second.next = third\r\n"
      ],
      "execution_count": null,
      "outputs": []
    },
    {
      "cell_type": "code",
      "metadata": {
        "id": "qkOCNiay59Yc"
      },
      "source": [
        "def push(self, new_data): \r\n",
        "  \r\n",
        "    # 1 & 2: Allocate the Node & \r\n",
        "    #        Put in the data \r\n",
        "    new_node = Node(new_data) \r\n",
        "          \r\n",
        "    # 3. Make next of new Node as head \r\n",
        "    new_node.next = self.head \r\n",
        "          \r\n",
        "    # 4. Move the head to point to new Node  \r\n",
        "    self.head = new_node "
      ],
      "execution_count": null,
      "outputs": []
    },
    {
      "cell_type": "code",
      "metadata": {
        "id": "BwWiZInpBXbG"
      },
      "source": [
        "def push(self,new_data):\r\n",
        "  new_node = Node(new_data)\r\n",
        "  new_node.next = self.head\r\n",
        "  self.head = new_node"
      ],
      "execution_count": null,
      "outputs": []
    },
    {
      "cell_type": "code",
      "metadata": {
        "colab": {
          "base_uri": "https://localhost:8080/"
        },
        "id": "IHz5j9LOalFO",
        "outputId": "8a48b060-9501-44b8-8977-9b6707a001c8"
      },
      "source": [
        "def dup(arr,n):\r\n",
        "  hs = set()\r\n",
        "  i =0\r\n",
        "  for i in range(0,n):\r\n",
        "    if arr[i] in hs:\r\n",
        "      print (arr[i])\r\n",
        "    else:\r\n",
        "      hs.add(arr[i])\r\n",
        "\r\n",
        "    i+=1\r\n",
        "\r\n",
        "arr = [1,2,4,4,8,2,7]\r\n",
        "n  = len(arr)\r\n",
        "print(dup(arr,n))\r\n",
        "\r\n",
        "\r\n"
      ],
      "execution_count": null,
      "outputs": [
        {
          "output_type": "stream",
          "text": [
            "4\n",
            "2\n",
            "None\n"
          ],
          "name": "stdout"
        }
      ]
    },
    {
      "cell_type": "code",
      "metadata": {
        "id": "bRf7HPRf4sPO"
      },
      "source": [
        "def dup(arr,n):\r\n",
        "  hs = set()\r\n",
        "  i =0\r\n",
        "  for i in range(0,n):\r\n",
        "    if arr[i] in hs:\r\n",
        "      print (arr[i])\r\n",
        "    else:\r\n",
        "      hs.add(arr[i])\r\n",
        "\r\n",
        "    i+=1\r\n",
        "\r\n",
        "arr = [1,2,4,4,8,2,7]\r\n",
        "n  = len(arr)\r\n",
        "print(dup(arr,n))\r\n"
      ],
      "execution_count": null,
      "outputs": []
    },
    {
      "cell_type": "code",
      "metadata": {
        "colab": {
          "base_uri": "https://localhost:8080/"
        },
        "id": "A541xHEPcuBX",
        "outputId": "d43c17f7-bf7e-46f7-e3fb-efc66caf05b6"
      },
      "source": [
        "def maxi(arr,n):\r\n",
        "  currcount = 1\r\n",
        "  maxcount = 1\r\n",
        "  curr = arr[0]\r\n",
        "  maximum = arr[0]\r\n",
        "  arr.sort()\r\n",
        "  i = 0\r\n",
        "  for i in range(0,n):\r\n",
        "    if arr[i-1] == arr[i]:\r\n",
        "      currcount+=1\r\n",
        "    \r\n",
        "    else:\r\n",
        "        currcount = 1\r\n",
        "        curr= arr[i]\r\n",
        "\r\n",
        "    if currcount>maxcount:\r\n",
        "      maxcount = currcount\r\n",
        "      maximum = curr\r\n",
        "    i+=1\r\n",
        "  return maximum\r\n",
        "\r\n",
        "arr = [1,2,4,4,4,4,8,2,7]\r\n",
        "n  = len(arr)\r\n",
        "print(maxi(arr,n))\r\n",
        "\r\n",
        "\r\n"
      ],
      "execution_count": null,
      "outputs": [
        {
          "output_type": "stream",
          "text": [
            "4\n"
          ],
          "name": "stdout"
        }
      ]
    },
    {
      "cell_type": "code",
      "metadata": {
        "colab": {
          "base_uri": "https://localhost:8080/",
          "height": 231
        },
        "id": "B121a4BEemuh",
        "outputId": "7418c780-5de4-449f-a241-82c539c298c0"
      },
      "source": [
        "def maxi(arr,n):\r\n",
        "  hs = set()\r\n",
        "  for i in range(0,n):\r\n",
        "    if arr[i] in hs:\r\n",
        "      hs[arr[i]]+= 1\r\n",
        "    else:\r\n",
        "      hs[arr[i]]=1\r\n",
        "maxcount = 0\r\n",
        "res = -1\r\n",
        "\r\n",
        "for i in range(0,n):\r\n",
        "  \r\n",
        "  if maxcount<hs[i]:\r\n",
        "    res = i\r\n",
        "\r\n",
        "max[i] == hs[i]\r\n",
        "return res\r\n",
        "\r\n",
        "\r\n",
        "arr = [1,2,4,4,4,4,8,2,7]\r\n",
        "n  = len(arr)\r\n",
        "print(maxi(arr,n))\r\n",
        "\r\n"
      ],
      "execution_count": null,
      "outputs": [
        {
          "output_type": "error",
          "ename": "NameError",
          "evalue": "ignored",
          "traceback": [
            "\u001b[0;31m---------------------------------------------------------------------------\u001b[0m",
            "\u001b[0;31mNameError\u001b[0m                                 Traceback (most recent call last)",
            "\u001b[0;32m<ipython-input-15-f0b1cea31cd8>\u001b[0m in \u001b[0;36m<module>\u001b[0;34m()\u001b[0m\n\u001b[1;32m     11\u001b[0m \u001b[0;32mfor\u001b[0m \u001b[0mi\u001b[0m \u001b[0;32min\u001b[0m \u001b[0mrange\u001b[0m\u001b[0;34m(\u001b[0m\u001b[0;36m0\u001b[0m\u001b[0;34m,\u001b[0m\u001b[0mn\u001b[0m\u001b[0;34m)\u001b[0m\u001b[0;34m:\u001b[0m\u001b[0;34m\u001b[0m\u001b[0;34m\u001b[0m\u001b[0m\n\u001b[1;32m     12\u001b[0m \u001b[0;34m\u001b[0m\u001b[0m\n\u001b[0;32m---> 13\u001b[0;31m   \u001b[0;32mif\u001b[0m \u001b[0mmaxcount\u001b[0m\u001b[0;34m<\u001b[0m\u001b[0mhs\u001b[0m\u001b[0;34m[\u001b[0m\u001b[0mi\u001b[0m\u001b[0;34m]\u001b[0m\u001b[0;34m:\u001b[0m\u001b[0;34m\u001b[0m\u001b[0;34m\u001b[0m\u001b[0m\n\u001b[0m\u001b[1;32m     14\u001b[0m     \u001b[0mres\u001b[0m \u001b[0;34m=\u001b[0m \u001b[0mi\u001b[0m\u001b[0;34m\u001b[0m\u001b[0;34m\u001b[0m\u001b[0m\n\u001b[1;32m     15\u001b[0m \u001b[0;34m\u001b[0m\u001b[0m\n",
            "\u001b[0;31mNameError\u001b[0m: name 'hs' is not defined"
          ]
        }
      ]
    },
    {
      "cell_type": "code",
      "metadata": {
        "colab": {
          "base_uri": "https://localhost:8080/"
        },
        "id": "9RlOO464kQS-",
        "outputId": "70965ddc-c55c-4850-ca87-a7f1c3e702c2"
      },
      "source": [
        "def majority(arr,n):\r\n",
        "  i =0\r\n",
        "  candidate = arr[n//2]\r\n",
        "  count = 0\r\n",
        "\r\n",
        "  arr.sort()\r\n",
        "  while i<n:\r\n",
        "    if arr[i] == candidate:\r\n",
        "      count+=1\r\n",
        "    i+=1\r\n",
        "  if count>n//2:\r\n",
        "    return arr[n//2]\r\n",
        "  else:\r\n",
        "    return \r\n",
        "arr = [1,2,4,4,4,4,4]\r\n",
        "n  = len(arr)\r\n",
        "print(majority(arr,n))\r\n",
        "\r\n"
      ],
      "execution_count": null,
      "outputs": [
        {
          "output_type": "stream",
          "text": [
            "4\n"
          ],
          "name": "stdout"
        }
      ]
    },
    {
      "cell_type": "code",
      "metadata": {
        "colab": {
          "base_uri": "https://localhost:8080/"
        },
        "id": "fPmNZP1s448A",
        "outputId": "a5117623-8b62-48f8-96a7-678354983228"
      },
      "source": [
        "\r\n",
        "def findCandidate(A):\r\n",
        "    maj_index = 0\r\n",
        "    count = 1\r\n",
        "    for i in range(len(A)):\r\n",
        "        if A[maj_index] == A[i]:\r\n",
        "            count += 1\r\n",
        "        else:\r\n",
        "            count -= 1\r\n",
        "        if count == 0:\r\n",
        "            maj_index = i\r\n",
        "            count = 1\r\n",
        "    return A[maj_index]\r\n",
        " \r\n",
        "# Function to check if the candidate occurs more than n/2 times\r\n",
        " \r\n",
        " \r\n",
        "def isMajority(A, cand):\r\n",
        "    count = 0\r\n",
        "    for i in range(len(A)):\r\n",
        "        if A[i] == cand:\r\n",
        "            count += 1\r\n",
        "    if count > len(A)/2:\r\n",
        "        return True\r\n",
        "    else:\r\n",
        "        return False\r\n",
        " \r\n",
        "# Function to print Majority Element\r\n",
        " \r\n",
        " \r\n",
        "def printMajority(A):\r\n",
        "    # Find the candidate for Majority\r\n",
        "    cand = findCandidate(A)\r\n",
        " \r\n",
        "    # Print the candidate if it is Majority\r\n",
        "    if isMajority(A, cand) == True:\r\n",
        "        print(cand)\r\n",
        "    else:\r\n",
        "        print(\"No Majority Element\")\r\n",
        " \r\n",
        " \r\n",
        "# Driver code\r\n",
        "A = [1, 3, 3, 3, 3, 1, 2]\r\n",
        " \r\n",
        "# Function call\r\n",
        "printMajority(A)\r\n",
        "    \r\n",
        "\r\n"
      ],
      "execution_count": null,
      "outputs": [
        {
          "output_type": "stream",
          "text": [
            "3\n"
          ],
          "name": "stdout"
        }
      ]
    },
    {
      "cell_type": "code",
      "metadata": {
        "colab": {
          "base_uri": "https://localhost:8080/"
        },
        "id": "cNEGmW1hSLY0",
        "outputId": "beb7de16-335d-46ac-ec67-58a9bb0a0e75"
      },
      "source": [
        "\r\n",
        "def findCandidate(A):\r\n",
        "    maj_index = 0\r\n",
        "    count = 1\r\n",
        "    for i in range(len(A)):\r\n",
        "        if A[maj_index] == A[i]:\r\n",
        "            count += 1\r\n",
        "        else:\r\n",
        "            count -= 1\r\n",
        "        if count == 0:\r\n",
        "            maj_index = i\r\n",
        "            count = 1\r\n",
        "    return A[maj_index]\r\n",
        " \r\n",
        "# Function to check if the candidate occurs more than n/2 times\r\n",
        " \r\n",
        " \r\n",
        "def isMajority(A, cand):\r\n",
        "    count = 0\r\n",
        "    for i in range(len(A)):\r\n",
        "        if A[i] == cand:\r\n",
        "            count += 1\r\n",
        "    if count > len(A)/2:\r\n",
        "        return True\r\n",
        "    else:\r\n",
        "        return False\r\n",
        " \r\n",
        "# Function to print Majority Element\r\n",
        " \r\n",
        " \r\n",
        "def printMajority(A):\r\n",
        "    # Find the candidate for Majority\r\n",
        "    cand = findCandidate(A)\r\n",
        " \r\n",
        "    # Print the candidate if it is Majority\r\n",
        "    if isMajority(A, cand) == True:\r\n",
        "        print(cand)\r\n",
        "    else:\r\n",
        "        print(\"No Majority Element\")\r\n",
        " \r\n",
        " \r\n",
        "# Driver code\r\n",
        "A = [1, 3, 3, 3, 3, 1, 2]\r\n",
        " \r\n",
        "# Function call\r\n",
        "printMajority(A)\r\n",
        "    \r\n",
        "\r\n"
      ],
      "execution_count": null,
      "outputs": [
        {
          "output_type": "stream",
          "text": [
            "3\n"
          ],
          "name": "stdout"
        }
      ]
    },
    {
      "cell_type": "code",
      "metadata": {
        "colab": {
          "base_uri": "https://localhost:8080/"
        },
        "id": "kzi97lBRXSwS",
        "outputId": "445657e2-a6bd-4e2e-d5b9-45f5854dc911"
      },
      "source": [
        "def missing(arr,n):\r\n",
        " \r\n",
        "  \r\n",
        "  for i in range(0,n):\r\n",
        "    jij = (n+1)*(n+2)//2\r\n",
        "    total = sum(arr)\r\n",
        "    result = jij - total\r\n",
        "  return result\r\n",
        "\r\n",
        "\r\n",
        "arr= [1, 3, 2, 4, 6]\r\n",
        "n = len(arr)\r\n",
        "print(missing(arr,n))\r\n",
        "\r\n"
      ],
      "execution_count": null,
      "outputs": [
        {
          "output_type": "stream",
          "text": [
            "5\n"
          ],
          "name": "stdout"
        }
      ]
    },
    {
      "cell_type": "code",
      "metadata": {
        "colab": {
          "base_uri": "https://localhost:8080/"
        },
        "id": "8t10LDGjYBHD",
        "outputId": "a4e96ff8-954a-464c-c68c-03478af3edc5"
      },
      "source": [
        "def missing(arr,n):\r\n",
        "  x1 = arr[0]\r\n",
        "  x2 = 1\r\n",
        "\r\n",
        "  for i in range(0,n-1):\r\n",
        "    x1 = x1 ^ arr[i]\r\n",
        "  for i in range(1,n+1):\r\n",
        "    x2 = x2^i\r\n",
        "  return x1^x2\r\n",
        "\r\n",
        "  \r\n",
        "  # for i in range(0,n):\r\n",
        "  #   if arr[i]\r\n",
        "  #   jij = (n+1)*(n+2)//2\r\n",
        "  #   total = sum(arr)\r\n",
        "  #   result = jij - total\r\n",
        "  # return result\r\n",
        "\r\n",
        "\r\n",
        "arr= [1, 3, 2, 4, 6]\r\n",
        "n = len(arr)\r\n",
        "print(missing(arr,n))"
      ],
      "execution_count": null,
      "outputs": [
        {
          "output_type": "stream",
          "text": [
            "5\n"
          ],
          "name": "stdout"
        }
      ]
    },
    {
      "cell_type": "code",
      "metadata": {
        "id": "rGJCYtMsar6M",
        "colab": {
          "base_uri": "https://localhost:8080/"
        },
        "outputId": "000cda26-6362-49e3-d09c-1145d54c060a"
      },
      "source": [
        "def pair(arr,n,value):\r\n",
        "  low = 0\r\n",
        "  high = n-1\r\n",
        "  arr.sort()\r\n",
        "  while low<high:\r\n",
        "     curr = arr[low]+arr[high]\r\n",
        "     if curr == value:\r\n",
        "       return arr[low],arr[high]\r\n",
        "     elif curr<value:\r\n",
        "       low +=1\r\n",
        "     else:\r\n",
        "       high-=1\r\n",
        "       break\r\n",
        "\r\n",
        "\r\n",
        "\r\n",
        "arr = [1,4,6,7,8,3,2]\r\n",
        "n = len(arr)\r\n",
        "value = 10\r\n",
        "print(pair(arr,n,value))"
      ],
      "execution_count": null,
      "outputs": [
        {
          "output_type": "stream",
          "text": [
            "(2, 8)\n"
          ],
          "name": "stdout"
        }
      ]
    },
    {
      "cell_type": "code",
      "metadata": {
        "colab": {
          "base_uri": "https://localhost:8080/"
        },
        "id": "mEJFFWRfr2Jz",
        "outputId": "4c0c0adc-94a9-42e4-c0d9-8fa3b6fe95d1"
      },
      "source": [
        "def hash(arr,n,value):\r\n",
        "  hs = set()\r\n",
        "  for i in range(0,n):\r\n",
        "    if (value-arr[i])in hs:\r\n",
        "\r\n",
        "      return value-arr[i], arr[i]\r\n",
        "    else:\r\n",
        "      hs.add(arr[i])\r\n",
        "      i+=1\r\n",
        "\r\n",
        "  \r\n",
        "  \r\n",
        "  \r\n",
        "  \r\n",
        "  \r\n",
        "  \r\n",
        "arr = [1,4,6,7,8,3,2]\r\n",
        "n = len(arr)\r\n",
        "value = 10\r\n",
        "print(hash(arr,n,value))\r\n",
        "\r\n",
        "\r\n"
      ],
      "execution_count": null,
      "outputs": [
        {
          "output_type": "stream",
          "text": [
            "(4, 6)\n"
          ],
          "name": "stdout"
        }
      ]
    },
    {
      "cell_type": "code",
      "metadata": {
        "colab": {
          "base_uri": "https://localhost:8080/"
        },
        "id": "AVBEJzE7wjFE",
        "outputId": "626127fa-ed5d-41bf-eda8-b8fbd5dbfe94"
      },
      "source": [
        "def pairs(arr1,arr2,n,m,value):\r\n",
        "  low = 0\r\n",
        "  high = m-1\r\n",
        "  arr1.sort()\r\n",
        "  arr2.sort()\r\n",
        "  while low<high:\r\n",
        "     curr = arr1[low]+arr2[high]\r\n",
        "     if curr == value:\r\n",
        "       return arr1[low],arr2[high]\r\n",
        "     elif curr<value:\r\n",
        "       low +=1\r\n",
        "     else:\r\n",
        "       high-=1\r\n",
        "       break\r\n",
        "\r\n",
        "\r\n",
        "\r\n",
        "arr1 = [1,4,6,7,8,3,2]\r\n",
        "arr2 = [1,4,6,7,8,3,2]\r\n",
        "n = len(arr1)\r\n",
        "m = len(arr2)\r\n",
        "value = 10\r\n",
        "print(pairs(arr1,arr2,n,m,value))"
      ],
      "execution_count": null,
      "outputs": [
        {
          "output_type": "stream",
          "text": [
            "(2, 8)\n"
          ],
          "name": "stdout"
        }
      ]
    },
    {
      "cell_type": "code",
      "metadata": {
        "colab": {
          "base_uri": "https://localhost:8080/"
        },
        "id": "LLL64eEVy6L9",
        "outputId": "fd1f450d-3f6c-4605-8100-b8a98028e17e"
      },
      "source": [
        "def hashi(arr1,arr2,m,n,value):\r\n",
        "  hs = set()\r\n",
        "  for i in range(0,m):\r\n",
        "    hs.add(arr1[i])\r\n",
        "  for j in range(0,n):\r\n",
        "\r\n",
        "    if ((value-arr2[j])in hs):\r\n",
        "\r\n",
        "      return value-arr2[j], arr1[i]\r\n",
        "    \r\n",
        "arr1 = [1,4,6,7,8,3,2]\r\n",
        "arr2 = [1,4,6,7,8,3,2]\r\n",
        "# n = len(arr1)\r\n",
        "# m = len(arr2)\r\n",
        "value = 6\r\n",
        "print(hashi(arr1,arr2,m,n,value))\r\n"
      ],
      "execution_count": null,
      "outputs": [
        {
          "output_type": "stream",
          "text": [
            "(2, 2)\n"
          ],
          "name": "stdout"
        }
      ]
    },
    {
      "cell_type": "code",
      "metadata": {
        "colab": {
          "base_uri": "https://localhost:8080/"
        },
        "id": "5ftRSvxv45k_",
        "outputId": "9ba6ad89-dcc6-40fd-a858-5c331361af65"
      },
      "source": [
        "def findPairs(arr1, arr2, n, m, x): \r\n",
        "  \r\n",
        "    s = set() \r\n",
        "    for i in range (0, n): \r\n",
        "        s.add(arr1[i]) \r\n",
        "    for j in range(0, m):\r\n",
        "        if ((x - arr2[j]) in s): \r\n",
        "            print((x - arr2[j]), '', arr2[j]) \r\n",
        " \r\n",
        "arr1 = [1, 0, -4, 7, 6, 4] \r\n",
        "arr2 = [0, 2, 4, -3, 2, 1] \r\n",
        "x = 8\r\n",
        "  \r\n",
        "n = len(arr1) \r\n",
        "m = len(arr2) \r\n",
        "findPairs(arr1, arr2, n, m, x) "
      ],
      "execution_count": null,
      "outputs": [
        {
          "output_type": "stream",
          "text": [
            "6  2\n",
            "4  4\n",
            "6  2\n",
            "7  1\n"
          ],
          "name": "stdout"
        }
      ]
    },
    {
      "cell_type": "code",
      "metadata": {
        "colab": {
          "base_uri": "https://localhost:8080/"
        },
        "id": "6UvdH2FBFKhW",
        "outputId": "46acd472-ac29-48fc-f486-1fec0420fc74"
      },
      "source": [
        "def hashi(arr1,arr2,m,n,value):\r\n",
        "  hs = set()\r\n",
        "  for i in range(0,m):\r\n",
        "    hs.add(arr1[i])\r\n",
        "  for j in range(0,n):\r\n",
        "\r\n",
        "    if ((value-arr2[j])in hs):\r\n",
        "      print( (value-arr2[j]), '',arr1[i])\r\n",
        "    \r\n",
        "arr1 = [1,4,6,7,8,3,2]\r\n",
        "arr2 = [1,4,6,7,8,3,2]\r\n",
        "n = len(arr1)\r\n",
        "m = len(arr2)\r\n",
        "value = 6\r\n",
        "print(hashi(arr1,arr2,m,n,value))\r\n"
      ],
      "execution_count": null,
      "outputs": [
        {
          "output_type": "stream",
          "text": [
            "2  2\n",
            "3  2\n",
            "4  2\n",
            "None\n"
          ],
          "name": "stdout"
        }
      ]
    },
    {
      "cell_type": "code",
      "metadata": {
        "colab": {
          "base_uri": "https://localhost:8080/"
        },
        "id": "I7KcJAYsQCNW",
        "outputId": "fa549beb-1c4c-4509-b706-9982960bd933"
      },
      "source": [
        "def findcount(arr,key):\r\n",
        "  i = 0\r\n",
        "  count = 0\r\n",
        "  while i<n:\r\n",
        "    if arr[i]==key:\r\n",
        "      count+=1\r\n",
        "    i+=1\r\n",
        "\r\n",
        "\r\n",
        "  return count\r\n",
        "\r\n",
        "arr = [1,23,4,8,8,8,67,8,9]\r\n",
        "n = len(arr)\r\n",
        "key = 8\r\n",
        "print(findcount(arr,key))"
      ],
      "execution_count": null,
      "outputs": [
        {
          "output_type": "stream",
          "text": [
            "4\n"
          ],
          "name": "stdout"
        }
      ]
    },
    {
      "cell_type": "code",
      "metadata": {
        "colab": {
          "base_uri": "https://localhost:8080/"
        },
        "id": "WsXaD6GjXxA6",
        "outputId": "f6573f01-c790-4ed9-c2ec-dd3bae138c46"
      },
      "source": [
        "def count(arr,n):\r\n",
        "  first = firstindex(arr,0,n-1,key)\r\n",
        "  last = lastindex(arr,0,n-1,key)\r\n",
        "  return lastindex-firstindex+1\r\n",
        "\r\n",
        "\r\n",
        "\r\n",
        "def firstindex(arr,start,end,key):\r\n",
        "  if end<start:\r\n",
        "    return  -1\r\n",
        "    mid = (start+end)/2\r\n",
        "    if key == arr[mid] and (arr[mid-1]!=key or mid == start):\r\n",
        "      return mid\r\n",
        "    if key<=arr[mid]:\r\n",
        "       return firstindex(arr,start,mid-1,key)\r\n",
        "    else:\r\n",
        "      return firstindex(arr,mid+1,end,key)\r\n",
        "\r\n",
        "\r\n",
        "def lastindex(arr,start,end,key):\r\n",
        "\r\n",
        "  if end<start:\r\n",
        "    return  -1\r\n",
        "    mid = (start+end)/2\r\n",
        "    if key == arr[mid] and (arr[mid-1]!=key or mid == end):\r\n",
        "      \r\n",
        "      return mid\r\n",
        "    if key<arr[mid]:\r\n",
        "       return lastindex(arr,start,mid-1,key)\r\n",
        "    else:\r\n",
        "      return lastindex(arr,mid+1,end,key)\r\n",
        "\r\n",
        "                                                                                                                                                                                                                                                                                                                                                                                                                                                                                                                                                                                                                                                                                                                                                                                                                                                                                                                                                                                                                                                                                                                                                                                                                                                                                                                                                                                                                                                                                                                                                                                                                                                                                                                                                                                                                                                                                                                                                                                                                                                                                                                                                                                                                                                          \r\n",
        "arr = [1,23,4,8,8,8,67,8,9]\r\n",
        "n = len(arr)\r\n",
        "key = 8\r\n",
        "print(findcount(arr,key))\r\n",
        "\r\n"
      ],
      "execution_count": null,
      "outputs": [
        {
          "output_type": "stream",
          "text": [
            "4\n"
          ],
          "name": "stdout"
        }
      ]
    },
    {
      "cell_type": "code",
      "metadata": {
        "colab": {
          "base_uri": "https://localhost:8080/"
        },
        "id": "t6wMtMssfrqA",
        "outputId": "cc2777d5-4876-4063-f15d-151f04c75072"
      },
      "source": [
        "def segregateEvenOdd(arr):\r\n",
        " \r\n",
        "    # Initialize left and right indexes\r\n",
        "    left,right = 0,len(arr)-1\r\n",
        " \r\n",
        "    while left < right:\r\n",
        " \r\n",
        "        # Increment left index while we see 0 at left\r\n",
        "        while (arr[left]%2==0 and left < right):\r\n",
        "            left += 1\r\n",
        " \r\n",
        "        # Decrement right index while we see 1 at right\r\n",
        "        while (arr[right]%2 == 1 and left < right):\r\n",
        "            right -= 1\r\n",
        " \r\n",
        "        if (left < right):\r\n",
        "              # Swap arr[left] and arr[right]*/\r\n",
        "              arr[left],arr[right] = arr[right],arr[left]\r\n",
        "              left += 1\r\n",
        "              right = right-1\r\n",
        " \r\n",
        " \r\n",
        "# Driver function to test above function\r\n",
        "arr = [12, 34, 45, 9, 8, 90, 3]\r\n",
        "segregateEvenOdd(arr)\r\n",
        "print (\"Array after segregation \"),\r\n",
        "for i in range(0,len(arr)):\r\n",
        "    print (arr[i])"
      ],
      "execution_count": null,
      "outputs": [
        {
          "output_type": "stream",
          "text": [
            "Array after segregation \n",
            "12\n",
            "34\n",
            "90\n",
            "8\n",
            "9\n",
            "45\n",
            "3\n"
          ],
          "name": "stdout"
        }
      ]
    },
    {
      "cell_type": "code",
      "metadata": {
        "colab": {
          "base_uri": "https://localhost:8080/"
        },
        "id": "hspbskgJgqj9",
        "outputId": "736df798-9d4c-4ac8-a39e-e20403873f6a"
      },
      "source": [
        "def maxProfit(arr,n):\r\n",
        "  i=0\r\n",
        "  buy = 0\r\n",
        "  sell =0\r\n",
        "  currmin = 0\r\n",
        "  currprofit =0\r\n",
        "  maxprofit = 0 \r\n",
        "\r\n",
        "  while i<n:\r\n",
        "    if arr[i]<arr[currmin]:\r\n",
        "      currmin = i\r\n",
        "    currprofit = arr[i]-arr[currmin]\r\n",
        "\r\n",
        "\r\n",
        "    if currprofit>maxprofit:\r\n",
        "      buy = currmin\r\n",
        "      sell = i\r\n",
        "      maxprofit = currprofit\r\n",
        "\r\n",
        "    i+=1\r\n",
        "  return arr[buy],arr[sell]\r\n",
        "\r\n",
        "\r\n",
        "\r\n",
        "\r\n",
        "\r\n",
        "\r\n",
        "\r\n",
        "\r\n",
        "arr = [2,4,6,7,9,4,3,36]\r\n",
        "n = len(arr)\r\n",
        "\r\n",
        "print (maxProfit(arr,n))\r\n"
      ],
      "execution_count": null,
      "outputs": [
        {
          "output_type": "stream",
          "text": [
            "(2, 36)\n"
          ],
          "name": "stdout"
        }
      ]
    },
    {
      "cell_type": "code",
      "metadata": {
        "colab": {
          "base_uri": "https://localhost:8080/"
        },
        "id": "bCzxXf2I1BYH",
        "outputId": "64e15d0c-eae1-40cb-ec94-1f9a65de92b9"
      },
      "source": [
        "def serch(arr,n):\r\n",
        "  arr.sort()\r\n",
        "  if n ==1 and arr[0]=='1':\r\n",
        "    return 0\r\n",
        "  return serchutil(arr,0,n-1)\r\n",
        "\r\n",
        "\r\n",
        "\r\n",
        "def serchutil(arr,low,high):\r\n",
        "  if low>high:\r\n",
        "    return -1\r\n",
        "  mid = int(low+high)//2\r\n",
        "  if 1 == arr[mid] and 0== arr[mid-1] :\r\n",
        "    return mid\r\n",
        "  if 0 == arr[mid]:\r\n",
        "    return serchutil(arr,mid+1,high)\r\n",
        "  else:\r\n",
        "    return serchutil(arr,low,mid-1)\r\n",
        "  \r\n",
        "\r\n",
        "\r\n",
        "\r\n",
        "\r\n",
        "arr = [ 0, 0, 0, 0, 0, 0, 1, 1, 1, 1 ] \r\n",
        "n = len(arr)\r\n",
        "# low = 0\r\n",
        "# high = n-1\r\n",
        "\r\n",
        "print(serch(arr,n))\r\n"
      ],
      "execution_count": null,
      "outputs": [
        {
          "output_type": "stream",
          "text": [
            "6\n"
          ],
          "name": "stdout"
        }
      ]
    },
    {
      "cell_type": "code",
      "metadata": {
        "colab": {
          "base_uri": "https://localhost:8080/"
        },
        "id": "zMEBOJwrTVT3",
        "outputId": "f68c226c-0e70-410d-9ea9-f661e4ae9e40"
      },
      "source": [
        "def search(arr,n):\r\n",
        "  for i in range(0, n):\r\n",
        "    if (arr[i] == 1):\r\n",
        "      return i \r\n",
        "  \r\n",
        "    # 1's are not present in the array \r\n",
        "  return -1\r\n",
        "arr = [ 0, 0, 0, 0, 0, 0, 1, 1, 1, 1 ] \r\n",
        "n = len(arr)\r\n",
        "print(search(arr,n))"
      ],
      "execution_count": null,
      "outputs": [
        {
          "output_type": "stream",
          "text": [
            "6\n"
          ],
          "name": "stdout"
        }
      ]
    },
    {
      "cell_type": "code",
      "metadata": {
        "id": "CixsYxdZTaWV",
        "colab": {
          "base_uri": "https://localhost:8080/"
        },
        "outputId": "6ae00779-56ea-4ab1-c347-775b01d0bc82"
      },
      "source": [
        "def rotated(arr,n,key):\r\n",
        "  return rotatedutil(arr,0,n-1,key)\r\n",
        "\r\n",
        "\r\n",
        "\r\n",
        "def rotatedutil(arr,low,high,key):\r\n",
        "  if low>high:\r\n",
        "    return -1\r\n",
        "  mid = int(low+high)//2\r\n",
        "\r\n",
        "\r\n",
        "\r\n",
        "  if arr[mid]== key:\r\n",
        "    return mid\r\n",
        "  if arr[mid]>arr[low]:\r\n",
        "    if arr[low]<= key and key<arr[mid]:\r\n",
        "      return rotatedutil(arr,low,mid-1,key)\r\n",
        "    else:\r\n",
        "      return rotatedutil(arr,mid+1,high,key)\r\n",
        "  else:\r\n",
        "    if arr[mid]<key and arr[key]<arr[high]:\r\n",
        "      return rotatedutil(arr,mid+1,high,key)\r\n",
        "    else:\r\n",
        "      return rotatedutil(arr,low,mid-1,key)\r\n",
        "\r\n",
        "  \r\n",
        "\r\n",
        "arr = [2,4,6,7,9,4,3,36]\r\n",
        "n = len(arr)\r\n",
        "key = 6\r\n",
        "print(rotated(arr,n,key))"
      ],
      "execution_count": null,
      "outputs": [
        {
          "output_type": "stream",
          "text": [
            "2\n"
          ],
          "name": "stdout"
        }
      ]
    },
    {
      "cell_type": "code",
      "metadata": {
        "colab": {
          "base_uri": "https://localhost:8080/"
        },
        "id": "yFvn0CTs5woT",
        "outputId": "c0d368bd-9ef1-489e-f5d0-9f1525bd38b6"
      },
      "source": [
        "def dupii(arr,n):\r\n",
        "  hs = set()\r\n",
        "  i =0\r\n",
        "  for i in range(0,n):\r\n",
        "    if arr[i] in hs:\r\n",
        "      print (arr[i])\r\n",
        "    else:\r\n",
        "      hs.add(arr[i])\r\n",
        "\r\n",
        "   \r\n",
        "\r\n",
        "arr = [1,2,4,4,8,2,7]\r\n",
        "n  = len(arr)\r\n",
        "print(dupii(arr,n))\r\n"
      ],
      "execution_count": null,
      "outputs": [
        {
          "output_type": "stream",
          "text": [
            "4\n",
            "2\n",
            "None\n"
          ],
          "name": "stdout"
        }
      ]
    },
    {
      "cell_type": "code",
      "metadata": {
        "id": "uJqq-iHDolgX"
      },
      "source": [
        "def hash(arr,n):\r\n",
        "  for i in range(0,n):\r\n",
        "    index = arr[i]%n\r\n",
        "    arr[index]+=n\r\n",
        "\r\n",
        "\r\n",
        "\r\n",
        "\r\n",
        "  res = []\r\n",
        "  flag = False\r\n",
        "  i=0\r\n",
        "  while i<n:\r\n",
        "    if (arr[i]//n>1):\r\n",
        "      res.append(i)\r\n",
        "      flag = True\r\n",
        "    if flag == False:\r\n",
        "      res.append(-1)\r\n",
        "  return res\r\n",
        "\r\n",
        "\r\n",
        "arr = [1,2,4,4,8,2,7]\r\n",
        "n  = len(arr)\r\n",
        "print(hash(arr,n))\r\n",
        "\r\n"
      ],
      "execution_count": null,
      "outputs": []
    },
    {
      "cell_type": "code",
      "metadata": {
        "id": "FHekkhARpg2m"
      },
      "source": [
        "def permu(arr1,arr2,m,n):\r\n",
        "  if m!=n:\r\n",
        "    return False\r\n",
        "\r\n",
        "\r\n",
        "    hs = []\r\n",
        "    i = 0\r\n",
        "    while i<m:\r\n",
        "      hs.add(arr1[i])\r\n",
        "\r\n",
        "      if arr2[i] in hs:\r\n",
        "        return True\r\n",
        "        i+=1\r\n",
        "      else:\r\n",
        "        return False\r\n",
        "\r\n",
        "  # arr1.sort()\r\n",
        "  # arr2.sort()\r\n",
        "  # i = 0\r\n",
        "  # while i<m:\r\n",
        "  #   if arr1[i]!= arr2[i]:\r\n",
        "  #     return False\r\n",
        "  #   i+=1\r\n",
        "\r\n",
        "  # return True\r\n",
        "\r\n",
        "\r\n",
        "\r\n",
        "arr1 = [1,2,3,4,56,6]\r\n",
        "\r\n",
        "arr2 = [1,2,3,4,56,6]\r\n",
        "m = len(arr1)\r\n",
        "n = len(arr2)\r\n",
        "permu(arr1,arr2,m,n)\r\n",
        "\r\n",
        "\r\n"
      ],
      "execution_count": null,
      "outputs": []
    },
    {
      "cell_type": "code",
      "metadata": {
        "id": "DVGJuOAdv0sX",
        "colab": {
          "base_uri": "https://localhost:8080/"
        },
        "outputId": "6e60ec82-3f76-4cae-a785-f8e7b3c1e53e"
      },
      "source": [
        "def seond(arr,n):\r\n",
        "  arr.sort()\r\n",
        "  i =0\r\n",
        "  for i in range(0,n):\r\n",
        "    return arr[n-2]\r\n",
        "\r\n",
        "\r\n",
        "\r\n",
        "arr = [2,4,6,7,9,4,3,36]\r\n",
        "n = len(arr)\r\n",
        "print(seond(arr,n))"
      ],
      "execution_count": null,
      "outputs": [
        {
          "output_type": "stream",
          "text": [
            "9\n"
          ],
          "name": "stdout"
        }
      ]
    },
    {
      "cell_type": "code",
      "metadata": {
        "colab": {
          "base_uri": "https://localhost:8080/"
        },
        "id": "_muOKzZL9jUA",
        "outputId": "db2a1601-ba7c-4c2e-9e10-5f76072c2e94"
      },
      "source": [
        "def second(arr,n):\r\n",
        "  if n<2:\r\n",
        "    return False \r\n",
        "\r\n",
        "  largest =second = -7346376\r\n",
        "  i =0\r\n",
        "\r\n",
        "  for i in range(0,n):\r\n",
        "    largest = max(arr[i],largest)\r\n",
        "  for i in range(0,n):\r\n",
        "    if (arr[i] != largest):\r\n",
        "      second = max(arr[i],second)\r\n",
        "\r\n",
        "  if second == -7346376:\r\n",
        "    print(\"nome\")\r\n",
        "  else:\r\n",
        "    print(\"fgfu\",second)\r\n",
        "\r\n",
        "\r\n",
        "\r\n",
        "\r\n",
        "arr = [2,4,6,7,9,4,3,36]\r\n",
        "n= len(arr)\r\n",
        "print(second(arr,n))\r\n",
        "  \r\n"
      ],
      "execution_count": null,
      "outputs": [
        {
          "output_type": "stream",
          "text": [
            "fgfu 9\n",
            "None\n"
          ],
          "name": "stdout"
        }
      ]
    },
    {
      "cell_type": "code",
      "metadata": {
        "colab": {
          "base_uri": "https://localhost:8080/"
        },
        "id": "Ibs_R9MUAq1j",
        "outputId": "52a57ed6-1715-49df-f30c-39a91df90f30"
      },
      "source": [
        "def remove(arr,n):\r\n",
        "\r\n",
        "  if n<2:\r\n",
        "    return 0\r\n",
        "  j = 0\r\n",
        "\r\n",
        "\r\n",
        "  if n == 0 or n == 1: \r\n",
        "        return n \r\n",
        "  \r\n",
        "    # To store index of next \r\n",
        "    # unique element \r\n",
        "  j = 0\r\n",
        "  \r\n",
        "    # Doing same as done \r\n",
        "    # in Method 1 Just \r\n",
        "    # maintaining another  \r\n",
        "    # updated index i.e. j \r\n",
        "  for i in range(0, n-1):\r\n",
        "    if arr[i] != arr[i+1]:\r\n",
        "      arr[j] = arr[i] \r\n",
        "      j += 1\r\n",
        "  \r\n",
        "    arr[j] = arr[n-1] \r\n",
        "    j += 1\r\n",
        "    return j \r\n",
        "\r\n",
        "\r\n",
        "arr = [1, 2, 2, 3, 4, 4, 4, 5, 5]\r\n",
        "n= len(arr)\r\n",
        "print(remove(arr,n))"
      ],
      "execution_count": null,
      "outputs": [
        {
          "output_type": "stream",
          "text": [
            "2\n"
          ],
          "name": "stdout"
        }
      ]
    },
    {
      "cell_type": "code",
      "metadata": {
        "colab": {
          "base_uri": "https://localhost:8080/"
        },
        "id": "0ZBbN8jCKYXY",
        "outputId": "1ccb8790-65e8-4d52-97bf-6f31cb978059"
      },
      "source": [
        "def  twoo(arr,n,r,c,value):\r\n",
        "  row = 0\r\n",
        "  coloumn = c-1\r\n",
        "\r\n",
        "  while row<r and coloumn>=0:\r\n",
        "    if arr[row][coloumn]==value:\r\n",
        "      return True\r\n",
        "    elif arr[row][coloumn]>value:\r\n",
        "\r\n",
        "      coloumn-=1\r\n",
        "    else:\r\n",
        "      row+=1\r\n",
        "  return False\r\n",
        "\r\n",
        "\r\n",
        "\r\n",
        "arr= ( [ 1.0, 3.5, 5.4, 7.9 ],\r\n",
        "      [ 9.0, 2.5, 4.2, 3.6 ],\r\n",
        "      [ 1.5, 3.2, 1.6, 6.5 ] )\r\n",
        "\r\n",
        "\r\n",
        "n = len(arr)\r\n",
        "r = 3\r\n",
        "c = 4\r\n",
        "value = 3.2\r\n",
        "print(twoo(arr,n,r,c,value))"
      ],
      "execution_count": null,
      "outputs": [
        {
          "output_type": "stream",
          "text": [
            "False\n"
          ],
          "name": "stdout"
        }
      ]
    },
    {
      "cell_type": "code",
      "metadata": {
        "colab": {
          "base_uri": "https://localhost:8080/"
        },
        "id": "f1uRTKABAFXW",
        "outputId": "eddd7815-7a97-4908-8d1d-d0e3e17ee52b"
      },
      "source": [
        "def bubbleSort(arr,n): \r\n",
        "    n = len(arr) \r\n",
        "   \r\n",
        "    \r\n",
        "    for i in range(n): \r\n",
        "        swapped = False\r\n",
        "        for j in range(0, n-i-1):\r\n",
        "          if arr[j] > arr[j+1] : \r\n",
        "            arr[j], arr[j+1] = arr[j+1], arr[j] \r\n",
        "            swapped = True\r\n",
        "  \r\n",
        "        \r\n",
        "        if swapped == False: \r\n",
        "            break\r\n",
        "           \r\n",
        "# Driver code to test above \r\n",
        "arr = [4,5,9,13,9]\r\n",
        "   \r\n",
        "bubbleSort(arr,n) \r\n",
        "   \r\n",
        "print (\"Sorted array :\") \r\n",
        "for i in range(len(arr)): \r\n",
        "    print (\"%d\" %arr[i],end=\" \") \r\n",
        "  "
      ],
      "execution_count": null,
      "outputs": [
        {
          "output_type": "stream",
          "text": [
            "Sorted array :\n",
            "4 5 9 9 13 "
          ],
          "name": "stdout"
        }
      ]
    },
    {
      "cell_type": "code",
      "metadata": {
        "colab": {
          "base_uri": "https://localhost:8080/"
        },
        "id": "8VEGtg8BEZZJ",
        "outputId": "f91a8cee-294b-4245-9371-6e5bdec3ec22"
      },
      "source": [
        "def insetionsort(arr,n):\r\n",
        "  for i in range(1,n):\r\n",
        "    temp = arr[i]\r\n",
        "    j = i-1\r\n",
        "    while j>=0 and arr[j]>temp:\r\n",
        "      arr[j+1]=arr[j]\r\n",
        "      j-=1\r\n",
        "    arr[j+1] = temp\r\n",
        "\r\n",
        "\r\n",
        "\r\n",
        "arr = [2,7,10,3,5,1]\r\n",
        "n = len(arr)\r\n",
        "   \r\n",
        "insetionsort(arr,n) \r\n",
        "   \r\n",
        "print (\"Sorted array :\") \r\n",
        "for i in range(len(arr)): \r\n",
        "    print (\"%d\" %arr[i],end=\" \") \r\n",
        "\r\n",
        "\r\n"
      ],
      "execution_count": null,
      "outputs": [
        {
          "output_type": "stream",
          "text": [
            "Sorted array :\n",
            "1 2 3 5 7 10 "
          ],
          "name": "stdout"
        }
      ]
    },
    {
      "cell_type": "code",
      "metadata": {
        "id": "MYPeUcJ_EaMR",
        "colab": {
          "base_uri": "https://localhost:8080/"
        },
        "outputId": "3a5bc96e-b0fd-45b0-ee65-302d55a0cc15"
      },
      "source": [
        "import sys \r\n",
        "A = [64, 25, 12, 22, 11] \r\n",
        "  \r\n",
        "# Traverse through all array elements \r\n",
        "for i in range(len(A)): \r\n",
        "      \r\n",
        "    # Find the minimum element in remaining  \r\n",
        "    # unsorted array \r\n",
        "    min_idx = i \r\n",
        "    for j in range(i+1, len(A)): \r\n",
        "        if A[min_idx] > A[j]: \r\n",
        "            min_idx = j \r\n",
        "              \r\n",
        "    # Swap the found minimum element with  \r\n",
        "    # the first element         \r\n",
        "    A[i], A[min_idx] = A[min_idx], A[i] \r\n",
        "  \r\n",
        "# Driver code to test above \r\n",
        "print (\"Sorted array\") \r\n",
        "for i in range(len(A)): \r\n",
        "    print(\"%d\" %A[i]),  "
      ],
      "execution_count": null,
      "outputs": [
        {
          "output_type": "stream",
          "text": [
            "Sorted array\n",
            "11\n",
            "12\n",
            "22\n",
            "25\n",
            "64\n"
          ],
          "name": "stdout"
        }
      ]
    },
    {
      "cell_type": "code",
      "metadata": {
        "colab": {
          "base_uri": "https://localhost:8080/"
        },
        "id": "NtHGDn7R6DZF",
        "outputId": "5154cf6f-cf99-4ed6-83f8-87746811c01c"
      },
      "source": [
        "import sys\r\n",
        "\r\n",
        "arr =[5,6,10,2,4,8]\r\n",
        "def selectionsort(arr,n):\r\n",
        "\r\n",
        "  for i in  range(0,n):\r\n",
        "    minindex = i\r\n",
        "    for j in range(i+1,n):\r\n",
        "      if arr[j]<arr[minindex]:\r\n",
        "        minindex = j\r\n",
        "    arr[i], arr[minindex] = arr[minindex],arr[i] \r\n",
        "\r\n",
        "n = len(arr)\r\n",
        "selectionsort(arr,n)\r\n",
        "\r\n",
        "print(\"sorted array\")\r\n",
        "for i in range(0,n):\r\n",
        "  print(arr[i],end = \"\")"
      ],
      "execution_count": null,
      "outputs": [
        {
          "output_type": "stream",
          "text": [
            "sorted array\n",
            "2\n",
            "4\n",
            "5\n",
            "6\n",
            "8\n",
            "10\n"
          ],
          "name": "stdout"
        }
      ]
    },
    {
      "cell_type": "code",
      "metadata": {
        "colab": {
          "base_uri": "https://localhost:8080/"
        },
        "id": "pbajXy6HkvVH",
        "outputId": "572816f2-b7d9-4f29-8738-93581bbfba7e"
      },
      "source": [
        "def mergeSort(arr):\r\n",
        "    if len(arr) > 1:\r\n",
        " \r\n",
        "         # Finding the mid of the array\r\n",
        "        mid = len(arr)//2\r\n",
        " \r\n",
        "        # Dividing the array elements\r\n",
        "        L = arr[:mid]\r\n",
        " \r\n",
        "        # into 2 halves\r\n",
        "        R = arr[mid:]\r\n",
        " \r\n",
        "        # Sorting the first half\r\n",
        "        mergeSort(L)\r\n",
        " \r\n",
        "        # Sorting the second half\r\n",
        "        mergeSort(R)\r\n",
        " \r\n",
        "        i = j = k = 0\r\n",
        " \r\n",
        "        # Copy data to temp arrays L[] and R[]\r\n",
        "        while i < len(L) and j < len(R):\r\n",
        "            if L[i] < R[j]:\r\n",
        "                arr[k] = L[i]\r\n",
        "                i += 1\r\n",
        "            else:\r\n",
        "                arr[k] = R[j]\r\n",
        "                j += 1\r\n",
        "            k += 1\r\n",
        " \r\n",
        "        # Checking if any element was left\r\n",
        "        while i < len(L):\r\n",
        "            arr[k] = L[i]\r\n",
        "            i += 1\r\n",
        "            k += 1\r\n",
        " \r\n",
        "        while j < len(R):\r\n",
        "            arr[k] = R[j]\r\n",
        "            j += 1\r\n",
        "            k += 1\r\n",
        " \r\n",
        "# Code to print the list\r\n",
        " \r\n",
        " \r\n",
        "def printList(arr):\r\n",
        "    for i in range(len(arr)):\r\n",
        "        print(arr[i], end=\" \")\r\n",
        "    # print()\r\n",
        " \r\n",
        " \r\n",
        "# Driver Code\r\n",
        "if __name__ == '__main__':\r\n",
        "    arr = [12, 11, 13, 5, 6, 7]\r\n",
        "    mergeSort(arr)\r\n",
        "    print(\"Sorted array is: \", end=\"\\n\")\r\n",
        "    printList(arr) "
      ],
      "execution_count": null,
      "outputs": [
        {
          "output_type": "stream",
          "text": [
            "Sorted array is: \n",
            "5 6 7 11 12 13 "
          ],
          "name": "stdout"
        }
      ]
    },
    {
      "cell_type": "code",
      "metadata": {
        "colab": {
          "base_uri": "https://localhost:8080/",
          "height": 214
        },
        "id": "o7wbtlWHLDMj",
        "outputId": "730cefc2-3f05-4810-a337-f3ed92ef2bd6"
      },
      "source": [
        ""
      ],
      "execution_count": null,
      "outputs": [
        {
          "output_type": "error",
          "ename": "TypeError",
          "evalue": "ignored",
          "traceback": [
            "\u001b[0;31m---------------------------------------------------------------------------\u001b[0m",
            "\u001b[0;31mTypeError\u001b[0m                                 Traceback (most recent call last)",
            "\u001b[0;32m<ipython-input-33-5d2273f52dc9>\u001b[0m in \u001b[0;36m<module>\u001b[0;34m()\u001b[0m\n\u001b[1;32m     53\u001b[0m     \u001b[0marr\u001b[0m \u001b[0;34m=\u001b[0m \u001b[0;34m[\u001b[0m\u001b[0;36m12\u001b[0m\u001b[0;34m,\u001b[0m \u001b[0;36m11\u001b[0m\u001b[0;34m,\u001b[0m \u001b[0;36m13\u001b[0m\u001b[0;34m,\u001b[0m \u001b[0;36m5\u001b[0m\u001b[0;34m,\u001b[0m \u001b[0;36m6\u001b[0m\u001b[0;34m,\u001b[0m \u001b[0;36m7\u001b[0m\u001b[0;34m]\u001b[0m\u001b[0;34m\u001b[0m\u001b[0;34m\u001b[0m\u001b[0m\n\u001b[1;32m     54\u001b[0m     \u001b[0mmergeSort\u001b[0m\u001b[0;34m(\u001b[0m\u001b[0marr\u001b[0m\u001b[0;34m)\u001b[0m\u001b[0;34m\u001b[0m\u001b[0;34m\u001b[0m\u001b[0m\n\u001b[0;32m---> 55\u001b[0;31m     \u001b[0mprint\u001b[0m\u001b[0;34m(\u001b[0m\u001b[0;34m\"Sorted array is: \"\u001b[0m\u001b[0;34m,\u001b[0m \u001b[0mend\u001b[0m\u001b[0;34m=\u001b[0m\u001b[0;34m\"\\n\"\u001b[0m\u001b[0;34m)\u001b[0m\u001b[0;34m\u001b[0m\u001b[0;34m\u001b[0m\u001b[0m\n\u001b[0m\u001b[1;32m     56\u001b[0m     \u001b[0mprintList\u001b[0m\u001b[0;34m(\u001b[0m\u001b[0marr\u001b[0m\u001b[0;34m)\u001b[0m\u001b[0;34m\u001b[0m\u001b[0;34m\u001b[0m\u001b[0m\n",
            "\u001b[0;31mTypeError\u001b[0m: print() got an unexpected keyword argument 'end'"
          ]
        }
      ]
    },
    {
      "cell_type": "code",
      "metadata": {
        "id": "BVLY0DvdvTHQ",
        "colab": {
          "base_uri": "https://localhost:8080/"
        },
        "outputId": "1bdcf04a-ef13-4157-a446-804a03943166"
      },
      "source": [
        "def partition(array, start, end):\r\n",
        "    pivot = array[start]\r\n",
        "    low = start + 1\r\n",
        "    high = end\r\n",
        "\r\n",
        "    while True:\r\n",
        "        # If the current value we're looking at is larger than the pivot\r\n",
        "        # it's in the right place (right side of pivot) and we can move left,\r\n",
        "        # to the next element.\r\n",
        "        # We also need to make sure we haven't surpassed the low pointer, since that\r\n",
        "        # indicates we have already moved all the elements to their correct side of the pivot\r\n",
        "        while low <= high and array[high] >= pivot:\r\n",
        "          high = high - 1\r\n",
        "\r\n",
        "        # Opposite process of the one above\r\n",
        "        while low <= high and array[low] <= pivot:\r\n",
        "          low = low + 1\r\n",
        "\r\n",
        "        # We either found a value for both high and low that is out of order\r\n",
        "        # or low is higher than high, in which case we exit the loop\r\n",
        "        if low <= high:\r\n",
        "            array[low], array[high] = array[high], array[low]\r\n",
        "            # The loop continues\r\n",
        "        else:\r\n",
        "            # We exit out of the loop\r\n",
        "            break\r\n",
        "\r\n",
        "    array[start], array[high] = array[high], array[start]\r\n",
        "\r\n",
        "    return high\r\n",
        "\r\n",
        "def quick_sort(array, start, end):\r\n",
        "    if start >= end:\r\n",
        "        return\r\n",
        "\r\n",
        "    p = partition(array, start, end)\r\n",
        "    quick_sort(array, start, p-1)\r\n",
        "    quick_sort(array, p+1, end)\r\n",
        "\r\n",
        "array = [29,99,27,41,66,28,44,78,87,19,31,76,58,88,83,97,12,21,44]\r\n",
        "\r\n",
        "quick_sort(array, 0, len(array) - 1)\r\n",
        "print(array)"
      ],
      "execution_count": null,
      "outputs": [
        {
          "output_type": "stream",
          "text": [
            "[12, 19, 21, 27, 28, 29, 31, 41, 44, 44, 58, 66, 76, 78, 83, 87, 88, 97, 99]\n"
          ],
          "name": "stdout"
        }
      ]
    },
    {
      "cell_type": "code",
      "metadata": {
        "colab": {
          "base_uri": "https://localhost:8080/"
        },
        "id": "jN-_-Cp2o3pz",
        "outputId": "42f57091-0fa6-41d7-860b-30083e90ce44"
      },
      "source": [
        "def partition(arr,start,end):\r\n",
        "  pivot = arr[start]\r\n",
        "  low = start+1\r\n",
        "  high = end\r\n",
        "\r\n",
        "\r\n",
        "  while True:\r\n",
        "     while low <= high and arr[low] <= pivot:\r\n",
        "      low+=1\r\n",
        "     while low <= high and arr[high] >= pivot:\r\n",
        "       high-=1\r\n",
        "     if low<=high:\r\n",
        "       arr[low],arr[high] = arr[high],arr[low]\r\n",
        "     else:\r\n",
        "       break\r\n",
        "     arr[start], arr[high] == arr[high], arr[start]\r\n",
        "\r\n",
        "  return high\r\n",
        "  \r\n",
        "\r\n",
        "def quicksort(arr,start,end):\r\n",
        "   if start >= end:\r\n",
        "        return\r\n",
        "   p = partition(arr, start, end)\r\n",
        "   quicksort(arr, start, p-1)\r\n",
        "   quicksort(arr, p+1, end)\r\n",
        "\r\n",
        "\r\n",
        "\r\n",
        "arr = [29,99,27,41,66,28,44,78,87,19,31,76,58,88,83,97,12,21,44]\r\n",
        "quicksort(arr,0,len(arr)-1)\r\n",
        "print(arr)\r\n"
      ],
      "execution_count": null,
      "outputs": [
        {
          "output_type": "stream",
          "text": [
            "[29, 21, 27, 12, 19, 28, 44, 41, 31, 66, 44, 58, 76, 88, 83, 87, 78, 99, 97]\n"
          ],
          "name": "stdout"
        }
      ]
    },
    {
      "cell_type": "code",
      "metadata": {
        "colab": {
          "base_uri": "https://localhost:8080/"
        },
        "id": "uRjG3r4dfxvC",
        "outputId": "2daa3aef-0ac8-4dd3-ca54-cfb4789d3f92"
      },
      "source": [
        "def heapify(arr, n, i):\r\n",
        "\r\n",
        "    largest = i  # Initialize largest as root\r\n",
        "    l = 2 * i    # left = 2*i + 1\r\n",
        "    r = 2 * i +1     # right = 2*i + 2\r\n",
        " \r\n",
        "    # See if left child of root exists and is\r\n",
        "    # greater than root\r\n",
        "    if l < n and arr[largest] < arr[l]:\r\n",
        "        largest = l\r\n",
        " \r\n",
        "    # See if right child of root exists and is\r\n",
        "    # greater than root\r\n",
        "    if r < n and arr[largest] < arr[r]:\r\n",
        "        largest = r\r\n",
        " \r\n",
        "    # Change root, if needed\r\n",
        "    if largest != i:\r\n",
        "        arr[i], arr[largest] = arr[largest], arr[i]  # swap\r\n",
        " \r\n",
        "        # Heapify the root.\r\n",
        "        heapify(arr, n, largest)\r\n",
        " \r\n",
        "# The main function to sort an array of given size\r\n",
        " \r\n",
        " \r\n",
        "def heapSort(arr):\r\n",
        "    n = len(arr)\r\n",
        " \r\n",
        "    # Build a maxheap.\r\n",
        "    for i in range(n//2, -1, -1):\r\n",
        "        heapify(arr, n, i)\r\n",
        " \r\n",
        "    # One by one extract elements\r\n",
        "    for i in range(n-1, 0, -1):\r\n",
        "      arr[i], arr[0] = arr[0], arr[i]\r\n",
        "      heapify(arr, i, 0)\r\n",
        "\r\n",
        "# Driver code\r\n",
        "arr = [2,3,52,54,67,343,67]\r\n",
        "heapSort(arr)\r\n",
        "n = len(arr)\r\n",
        "print(\"Sorted array is\")\r\n",
        "for i in range(n):\r\n",
        "    print(\"%d\" % arr[i])"
      ],
      "execution_count": null,
      "outputs": [
        {
          "output_type": "stream",
          "text": [
            "Sorted array is\n",
            "2\n",
            "3\n",
            "52\n",
            "54\n",
            "67\n",
            "67\n",
            "343\n"
          ],
          "name": "stdout"
        }
      ]
    },
    {
      "cell_type": "code",
      "metadata": {
        "colab": {
          "base_uri": "https://localhost:8080/"
        },
        "id": "dixu2o5BY-Km",
        "outputId": "629cb237-b42e-4c04-ba42-5f5dcf9acc1a"
      },
      "source": [
        "def countsort(arr):\r\n",
        "  n = len(arr)\r\n",
        "  output = [0]*n\r\n",
        "  count = [0]*10\r\n",
        "  for i in range(0,n):\r\n",
        "    count[arr[i]]+=1\r\n",
        "\r\n",
        "  for i in range(1,10):\r\n",
        "    count[i]=count[i]+count[i-1]\r\n",
        "  i = n - 1\r\n",
        "  while i >= 0:\r\n",
        "    output[count[arr[i]] - 1] = arr[i]\r\n",
        "    count[arr[i]] -= 1\r\n",
        "    i -= 1\r\n",
        "  for i in range(0, n):\r\n",
        "    arr[i] = output[i]\r\n",
        "\r\n",
        "\r\n",
        "arr = [4, 2, 2, 8, 3, 3, 1]\r\n",
        "countsort(arr)\r\n",
        "n = len(arr)\r\n",
        "print(\"Sorted Array in Ascending Order: \")\r\n",
        "print(arr)"
      ],
      "execution_count": null,
      "outputs": [
        {
          "output_type": "stream",
          "text": [
            "Sorted Array in Ascending Order: \n",
            "[1, 2, 2, 3, 3, 4, 8]\n"
          ],
          "name": "stdout"
        }
      ]
    },
    {
      "cell_type": "code",
      "metadata": {
        "colab": {
          "base_uri": "https://localhost:8080/"
        },
        "id": "VMNVknrQp3po",
        "outputId": "9ba1b847-7aee-4efd-b6e9-843f207fd727"
      },
      "source": [
        "# Counting sort in Python programming\r\n",
        "\r\n",
        "\r\n",
        "def countingSort(array):\r\n",
        "    size = len(array)\r\n",
        "    output = [0] * size\r\n",
        "\r\n",
        "    # Initialize count array\r\n",
        "    count = [0] * 10\r\n",
        "\r\n",
        "    # Store the count of each elements in count array\r\n",
        "    for i in range(0, size):\r\n",
        "        count[array[i]] += 1\r\n",
        "\r\n",
        "    # Store the cummulative count\r\n",
        "    for i in range(1, 10):\r\n",
        "        count[i] += count[i - 1]\r\n",
        "\r\n",
        "    # Find the index of each element of the original array in count array\r\n",
        "    # place the elements in output array\r\n",
        "    i = size - 1\r\n",
        "    while i >= 0:\r\n",
        "        output[count[array[i]] - 1] = array[i]\r\n",
        "        count[array[i]] -= 1\r\n",
        "        i -= 1\r\n",
        "\r\n",
        "    # Copy the sorted elements into original array\r\n",
        "    for i in range(0, size):\r\n",
        "        array[i] = output[i]\r\n",
        "\r\n",
        "\r\n",
        "data = [4, 2, 2, 8, 3, 3, 1]\r\n",
        "countingSort(data)\r\n",
        "print(\"Sorted Array in Ascending Order: \")\r\n",
        "print(data)"
      ],
      "execution_count": null,
      "outputs": [
        {
          "output_type": "stream",
          "text": [
            "Sorted Array in Ascending Order: \n",
            "[1, 2, 2, 3, 3, 4, 8]\n"
          ],
          "name": "stdout"
        }
      ]
    },
    {
      "cell_type": "code",
      "metadata": {
        "colab": {
          "base_uri": "https://localhost:8080/"
        },
        "id": "EPGWbDXhuHRI",
        "outputId": "ec076a09-2270-4654-de9f-89610be93cc8"
      },
      "source": [
        "def countingsort(arr,pos):\r\n",
        "  n =len(arr)\r\n",
        "\r\n",
        "  output =  [0] * (n) \r\n",
        "  count = [0] * (10) \r\n",
        "\r\n",
        "  for i in range(0,n):\r\n",
        "    index = (arr[i]/pos)\r\n",
        "    count[int(index%10)]+=1\r\n",
        "  for i in range(1,10):\r\n",
        "    count[i] += count[i - 1] \r\n",
        "    i = n-1\r\n",
        "  while i>=0:\r\n",
        "\r\n",
        "    index = (arr[i] / pos)\r\n",
        "    output[count[int(index%10)]-1]= arr[i]\r\n",
        "    #  output[count[int(index % 10)] - 1] = arr[i] \r\n",
        "    count[int(index % 10)] -= 1\r\n",
        "    i -= 1\r\n",
        "\r\n",
        "\r\n",
        "  i = 0\r\n",
        "  for i in range(0, len(arr)):\r\n",
        "    arr[i] = output[i] \r\n",
        "\r\n",
        "def radixsort(arr):\r\n",
        "  max1 = max(arr)\r\n",
        "  pos = 1\r\n",
        "  while max1 / pos > 0:\r\n",
        "    countingsort(arr, pos) \r\n",
        "    pos *= 10\r\n",
        "\r\n",
        "\r\n",
        "\r\n",
        "\r\n",
        "arr =[1,43,5654,355,56,4]\r\n",
        "radixsort(arr)\r\n",
        "for i in range(len(arr)): \r\n",
        "    print(arr[i]) \r\n",
        "\r\n",
        "\r\n",
        "\r\n",
        "\r\n",
        "\r\n",
        "\r\n",
        "\r\n"
      ],
      "execution_count": null,
      "outputs": [
        {
          "output_type": "stream",
          "text": [
            "1\n",
            "4\n",
            "43\n",
            "56\n",
            "355\n",
            "5654\n"
          ],
          "name": "stdout"
        }
      ]
    },
    {
      "cell_type": "code",
      "metadata": {
        "id": "YOU_AqmlwpJ2",
        "colab": {
          "base_uri": "https://localhost:8080/",
          "height": 350
        },
        "outputId": "edda3ab6-e23e-4bfe-dc18-368536e31753"
      },
      "source": [
        "def shellsort(arr,n):\r\n",
        "  gap = n//2\r\n",
        "  while gap>=1:\r\n",
        "    j = gap\r\n",
        "    for j in range(gap,n):\r\n",
        "      i = j-gap\r\n",
        "      while i>=0:\r\n",
        "        if arr[i+gap]>arr[i]:\r\n",
        "          break;\r\n",
        "        else:\r\n",
        "          arr[i+gap],arr[i] = arr[i],arr[i+gap]\r\n",
        "    \r\n",
        "\r\n",
        "\r\n",
        "arr = [4,56,3,53,25]\r\n",
        "n = len(arr)\r\n",
        "shellsort(arr,n)\r\n",
        "for i in range(0,n):\r\n",
        "  print(arr[i])\r\n",
        "          \r\n"
      ],
      "execution_count": null,
      "outputs": [
        {
          "output_type": "error",
          "ename": "KeyboardInterrupt",
          "evalue": "ignored",
          "traceback": [
            "\u001b[0;31m---------------------------------------------------------------------------\u001b[0m",
            "\u001b[0;31mKeyboardInterrupt\u001b[0m                         Traceback (most recent call last)",
            "\u001b[0;32m<ipython-input-16-cc576b39409f>\u001b[0m in \u001b[0;36m<module>\u001b[0;34m()\u001b[0m\n\u001b[1;32m     15\u001b[0m \u001b[0marr\u001b[0m \u001b[0;34m=\u001b[0m \u001b[0;34m[\u001b[0m\u001b[0;36m4\u001b[0m\u001b[0;34m,\u001b[0m\u001b[0;36m56\u001b[0m\u001b[0;34m,\u001b[0m\u001b[0;36m3\u001b[0m\u001b[0;34m,\u001b[0m\u001b[0;36m53\u001b[0m\u001b[0;34m,\u001b[0m\u001b[0;36m25\u001b[0m\u001b[0;34m]\u001b[0m\u001b[0;34m\u001b[0m\u001b[0;34m\u001b[0m\u001b[0m\n\u001b[1;32m     16\u001b[0m \u001b[0mn\u001b[0m \u001b[0;34m=\u001b[0m \u001b[0mlen\u001b[0m\u001b[0;34m(\u001b[0m\u001b[0marr\u001b[0m\u001b[0;34m)\u001b[0m\u001b[0;34m\u001b[0m\u001b[0;34m\u001b[0m\u001b[0m\n\u001b[0;32m---> 17\u001b[0;31m \u001b[0mshellsort\u001b[0m\u001b[0;34m(\u001b[0m\u001b[0marr\u001b[0m\u001b[0;34m,\u001b[0m\u001b[0mn\u001b[0m\u001b[0;34m)\u001b[0m\u001b[0;34m\u001b[0m\u001b[0;34m\u001b[0m\u001b[0m\n\u001b[0m\u001b[1;32m     18\u001b[0m \u001b[0;32mfor\u001b[0m \u001b[0mi\u001b[0m \u001b[0;32min\u001b[0m \u001b[0mrange\u001b[0m\u001b[0;34m(\u001b[0m\u001b[0;36m0\u001b[0m\u001b[0;34m,\u001b[0m\u001b[0mn\u001b[0m\u001b[0;34m)\u001b[0m\u001b[0;34m:\u001b[0m\u001b[0;34m\u001b[0m\u001b[0;34m\u001b[0m\u001b[0m\n\u001b[1;32m     19\u001b[0m   \u001b[0mprint\u001b[0m\u001b[0;34m(\u001b[0m\u001b[0marr\u001b[0m\u001b[0;34m[\u001b[0m\u001b[0mi\u001b[0m\u001b[0;34m]\u001b[0m\u001b[0;34m)\u001b[0m\u001b[0;34m\u001b[0m\u001b[0;34m\u001b[0m\u001b[0m\n",
            "\u001b[0;32m<ipython-input-16-cc576b39409f>\u001b[0m in \u001b[0;36mshellsort\u001b[0;34m(arr, n)\u001b[0m\n\u001b[1;32m      6\u001b[0m       \u001b[0mi\u001b[0m \u001b[0;34m=\u001b[0m \u001b[0mj\u001b[0m\u001b[0;34m-\u001b[0m\u001b[0mgap\u001b[0m\u001b[0;34m\u001b[0m\u001b[0;34m\u001b[0m\u001b[0m\n\u001b[1;32m      7\u001b[0m       \u001b[0;32mwhile\u001b[0m \u001b[0mi\u001b[0m\u001b[0;34m>=\u001b[0m\u001b[0;36m0\u001b[0m\u001b[0;34m:\u001b[0m\u001b[0;34m\u001b[0m\u001b[0;34m\u001b[0m\u001b[0m\n\u001b[0;32m----> 8\u001b[0;31m         \u001b[0;32mif\u001b[0m \u001b[0marr\u001b[0m\u001b[0;34m[\u001b[0m\u001b[0mi\u001b[0m\u001b[0;34m+\u001b[0m\u001b[0mgap\u001b[0m\u001b[0;34m]\u001b[0m\u001b[0;34m>\u001b[0m\u001b[0marr\u001b[0m\u001b[0;34m[\u001b[0m\u001b[0mi\u001b[0m\u001b[0;34m]\u001b[0m\u001b[0;34m:\u001b[0m\u001b[0;34m\u001b[0m\u001b[0;34m\u001b[0m\u001b[0m\n\u001b[0m\u001b[1;32m      9\u001b[0m           \u001b[0;32mbreak\u001b[0m\u001b[0;34m;\u001b[0m\u001b[0;34m\u001b[0m\u001b[0;34m\u001b[0m\u001b[0m\n\u001b[1;32m     10\u001b[0m         \u001b[0;32melse\u001b[0m\u001b[0;34m:\u001b[0m\u001b[0;34m\u001b[0m\u001b[0;34m\u001b[0m\u001b[0m\n",
            "\u001b[0;31mKeyboardInterrupt\u001b[0m: "
          ]
        }
      ]
    },
    {
      "cell_type": "code",
      "metadata": {
        "colab": {
          "base_uri": "https://localhost:8080/",
          "height": 452
        },
        "id": "hPEN4SzYuNo5",
        "outputId": "354ee95e-0359-42f9-9e7b-16efba6ae62c"
      },
      "source": [
        "def shellSort(arr): \r\n",
        "  \r\n",
        "    # Start with a big gap, then reduce the gap \r\n",
        "    n = len(arr) \r\n",
        "    gap = n/2\r\n",
        "    while gap > 0:\r\n",
        "      \r\n",
        "      for i in range(gap,n):\r\n",
        "        temp = arr[i]\r\n",
        "        j = i \r\n",
        "    while  j >= gap and arr[j-gap] >temp:\r\n",
        "      arr[j] = arr[j-gap] \r\n",
        "      j -= gap\r\n",
        "      arr[j] = temp \r\n",
        "      gap /= 2\r\n",
        "  \r\n",
        "  \r\n",
        "# Driver code to test above \r\n",
        "arr = [ 12, 34, 54, 2, 3]\r\n",
        "  \r\n",
        "n = len(arr) \r\n",
        "print (\"Array before sorting:\") \r\n",
        "for i in range(n): \r\n",
        "    print(arr[i]), \r\n",
        "  \r\n",
        "shellSort(arr)\r\n",
        "print (\"\\nArray after sorting:\") \r\n",
        "for i in range(n): \r\n",
        "    print(arr[i]), \r\n",
        "  "
      ],
      "execution_count": null,
      "outputs": [
        {
          "output_type": "stream",
          "text": [
            "Array before sorting:\n",
            "12\n",
            "34\n",
            "54\n",
            "2\n",
            "3\n"
          ],
          "name": "stdout"
        },
        {
          "output_type": "error",
          "ename": "TypeError",
          "evalue": "ignored",
          "traceback": [
            "\u001b[0;31m---------------------------------------------------------------------------\u001b[0m",
            "\u001b[0;31mTypeError\u001b[0m                                 Traceback (most recent call last)",
            "\u001b[0;32m<ipython-input-19-76690cfdcdbd>\u001b[0m in \u001b[0;36m<module>\u001b[0;34m()\u001b[0m\n\u001b[1;32m     28\u001b[0m     \u001b[0mprint\u001b[0m\u001b[0;34m(\u001b[0m\u001b[0marr\u001b[0m\u001b[0;34m[\u001b[0m\u001b[0mi\u001b[0m\u001b[0;34m]\u001b[0m\u001b[0;34m)\u001b[0m\u001b[0;34m,\u001b[0m\u001b[0;34m\u001b[0m\u001b[0;34m\u001b[0m\u001b[0m\n\u001b[1;32m     29\u001b[0m \u001b[0;34m\u001b[0m\u001b[0m\n\u001b[0;32m---> 30\u001b[0;31m \u001b[0mshellSort\u001b[0m\u001b[0;34m(\u001b[0m\u001b[0marr\u001b[0m\u001b[0;34m)\u001b[0m\u001b[0;34m\u001b[0m\u001b[0;34m\u001b[0m\u001b[0m\n\u001b[0m\u001b[1;32m     31\u001b[0m \u001b[0;34m\u001b[0m\u001b[0m\n\u001b[1;32m     32\u001b[0m \u001b[0mprint\u001b[0m \u001b[0;34m(\u001b[0m\u001b[0;34m\"\\nArray after sorting:\"\u001b[0m\u001b[0;34m)\u001b[0m\u001b[0;34m\u001b[0m\u001b[0;34m\u001b[0m\u001b[0m\n",
            "\u001b[0;32m<ipython-input-19-76690cfdcdbd>\u001b[0m in \u001b[0;36mshellSort\u001b[0;34m(arr)\u001b[0m\n\u001b[1;32m     10\u001b[0m     \u001b[0;31m# is gap sorted\u001b[0m\u001b[0;34m\u001b[0m\u001b[0;34m\u001b[0m\u001b[0;34m\u001b[0m\u001b[0m\n\u001b[1;32m     11\u001b[0m     \u001b[0;32mwhile\u001b[0m \u001b[0mgap\u001b[0m \u001b[0;34m>\u001b[0m \u001b[0;36m0\u001b[0m\u001b[0;34m:\u001b[0m\u001b[0;34m\u001b[0m\u001b[0;34m\u001b[0m\u001b[0m\n\u001b[0;32m---> 12\u001b[0;31m       \u001b[0;32mfor\u001b[0m \u001b[0mi\u001b[0m \u001b[0;32min\u001b[0m \u001b[0mrange\u001b[0m\u001b[0;34m(\u001b[0m\u001b[0mgap\u001b[0m\u001b[0;34m,\u001b[0m\u001b[0mn\u001b[0m\u001b[0;34m)\u001b[0m\u001b[0;34m:\u001b[0m\u001b[0;34m\u001b[0m\u001b[0;34m\u001b[0m\u001b[0m\n\u001b[0m\u001b[1;32m     13\u001b[0m         \u001b[0mtemp\u001b[0m \u001b[0;34m=\u001b[0m \u001b[0marr\u001b[0m\u001b[0;34m[\u001b[0m\u001b[0mi\u001b[0m\u001b[0;34m]\u001b[0m\u001b[0;34m\u001b[0m\u001b[0;34m\u001b[0m\u001b[0m\n\u001b[1;32m     14\u001b[0m         \u001b[0mj\u001b[0m \u001b[0;34m=\u001b[0m \u001b[0mi\u001b[0m\u001b[0;34m\u001b[0m\u001b[0;34m\u001b[0m\u001b[0m\n",
            "\u001b[0;31mTypeError\u001b[0m: 'float' object cannot be interpreted as an integer"
          ]
        }
      ]
    },
    {
      "cell_type": "code",
      "metadata": {
        "id": "VnOFWFPO-VGs",
        "colab": {
          "base_uri": "https://localhost:8080/"
        },
        "outputId": "4442e75d-6341-4f3c-e756-f481031d3ea8"
      },
      "source": [
        "def bucketSort(array):\r\n",
        "    bucket = []\r\n",
        "    # Create empty buckets\r\n",
        "    for i in range(len(array)):\r\n",
        "        bucket.append([])\r\n",
        "\r\n",
        "\r\n",
        "    # Insert elements into their respective buckets\r\n",
        "    for j in array:\r\n",
        "        index_b = int(10 * j)\r\n",
        "        bucket[index_b].append(j)\r\n",
        "\r\n",
        "    # Sort the elements of each bucket\r\n",
        "    for i in range(len(array)):\r\n",
        "\r\n",
        "        bucket[i] = sorted(bucket[i])\r\n",
        "\r\n",
        "    # Get the sorted elements\r\n",
        "    k = 0\r\n",
        "    for i in range(len(array)):\r\n",
        "        for j in range(len(bucket[i])):\r\n",
        "            array[k] = bucket[i][j]\r\n",
        "            k += 1\r\n",
        "    return array\r\n",
        "array = [.42, .32, .33, .52, .37, .47, .51]\r\n",
        "print(\"Sorted Array in descending order is\")\r\n",
        "print(bucketSort(array))\r\n"
      ],
      "execution_count": null,
      "outputs": [
        {
          "output_type": "stream",
          "text": [
            "Sorted Array in descending order is\n",
            "[0.32, 0.33, 0.37, 0.42, 0.47, 0.51, 0.52]\n"
          ],
          "name": "stdout"
        }
      ]
    },
    {
      "cell_type": "code",
      "metadata": {
        "colab": {
          "base_uri": "https://localhost:8080/"
        },
        "id": "ISwuZHpSy2dT",
        "outputId": "7bf9ad2c-83d0-4adf-e273-98d9e9fa64f1"
      },
      "source": [
        "from collections import Counter\r\n",
        "word_set = \" This is a series of strings to count \" \\\r\n",
        "   \"many words . They sometime hurt and words sometime inspire \"\\\r\n",
        "   \"Also sometime fewer words convey more meaning than a bag of words \"\\\r\n",
        "   \"Be careful what you speak or what you write or even what you think of. \"\\\r\n",
        "# Create list of all the words in the string\r\n",
        "word_list = word_set.split()\r\n",
        "\r\n",
        "# Get the count of each word.\r\n",
        "word_count = Counter(word_list)\r\n",
        "\r\n",
        "# Use most_common() method from Counter subclass\r\n",
        "print(word_count.most_common(5))\r\n",
        "\r\n",
        "\r\n",
        "\r\n",
        "\r\n",
        "\r\n",
        "\r\n"
      ],
      "execution_count": null,
      "outputs": [
        {
          "output_type": "stream",
          "text": [
            "[('words', 4), ('sometime', 3), ('what', 3), ('you', 3), ('a', 2)]\n"
          ],
          "name": "stdout"
        }
      ]
    },
    {
      "cell_type": "code",
      "metadata": {
        "id": "YvoKMUFiDpfZ",
        "colab": {
          "base_uri": "https://localhost:8080/"
        },
        "outputId": "a8d8210c-ac9b-44ea-e745-d77644926701"
      },
      "source": [
        "def performOps(A):\r\n",
        "    m = len(A)\r\n",
        "    n = len(A[0])\r\n",
        "    B = []\r\n",
        "    for i in range(len(A)):\r\n",
        "        B.append([0] * n)\r\n",
        "        for j in range(len(A[i])):\r\n",
        "            B[i][n - 1 - j] = A[i][j]\r\n",
        "    return B\r\n",
        "\r\n",
        "# Lets say performOps was called with A : [[1, 2, 3, 4], [5, 6, 7, 8], [9, 10, 11, 12]] . What would be the output of the following call :\r\n",
        "A = [[1, 2, 3, 4], [5, 6, 7, 8], [9, 10, 11, 12]]\r\n",
        "B = performOps(A)\r\n",
        "for i in range(len(B)):\r\n",
        "    for j in range(len(B[i])):\r\n",
        "        print (B[i][j])"
      ],
      "execution_count": null,
      "outputs": [
        {
          "output_type": "stream",
          "text": [
            "4\n",
            "3\n",
            "2\n",
            "1\n",
            "8\n",
            "7\n",
            "6\n",
            "5\n",
            "12\n",
            "11\n",
            "10\n",
            "9\n"
          ],
          "name": "stdout"
        }
      ]
    },
    {
      "cell_type": "code",
      "metadata": {
        "id": "JJUg3mEIY8Dm"
      },
      "source": [
        "class Solution:\r\n",
        "    \r\n",
        "    def rotateArray(self, a, b):\r\n",
        "        ret = []\r\n",
        "        for i in xrange(len(a)):\r\n",
        "            ret.append(a[i + b])\r\n",
        "        return ret\r\n"
      ],
      "execution_count": null,
      "outputs": []
    },
    {
      "cell_type": "code",
      "metadata": {
        "colab": {
          "base_uri": "https://localhost:8080/"
        },
        "id": "j213gC43bLoT",
        "outputId": "9b4bfd02-d57b-4ea4-f4dc-26f4e71946bf"
      },
      "source": [
        "def rotateArray(a, b):\r\n",
        "  ret = []\r\n",
        "  for i in range(len(a)):\r\n",
        "      ret.append(a[(i + b) % len(a)])\r\n",
        "      return ret\r\n",
        "\r\n",
        "\r\n",
        "a = [1,23,4,5,6,8,9]\r\n",
        "b = 2\r\n",
        "n = len(a)\r\n",
        "print(rotateArray(a, b))\r\n"
      ],
      "execution_count": null,
      "outputs": [
        {
          "output_type": "stream",
          "text": [
            "[4]\n"
          ],
          "name": "stdout"
        }
      ]
    },
    {
      "cell_type": "code",
      "metadata": {
        "colab": {
          "base_uri": "https://localhost:8080/"
        },
        "id": "xA9s6Ftce6pR",
        "outputId": "2ae6f1ed-b84b-4ab3-e890-27dd6f4b3ed7"
      },
      "source": [
        "def performOps(A):\r\n",
        "    blen = 2 * len(A)\r\n",
        "    B = [0]*blen\r\n",
        "    for i in range(len(A)):\r\n",
        "        B[i] = A[i]\r\n",
        "        B[i + len(A)] = A[(len(A) - i) % len(A)]\r\n",
        "    return B\r\n",
        "\r\n",
        "# Lets say performOps was called with A : [5, 10, 2, 1]. What would be the output of the following call :\r\n",
        "A = [5, 10, 2, 1]\r\n",
        "B = performOps(A)\r\n",
        "for i in range(len(B)):\r\n",
        "    print (B[i])"
      ],
      "execution_count": null,
      "outputs": [
        {
          "output_type": "stream",
          "text": [
            "5\n",
            "10\n",
            "2\n",
            "1\n",
            "5\n",
            "1\n",
            "2\n",
            "10\n"
          ],
          "name": "stdout"
        }
      ]
    },
    {
      "cell_type": "code",
      "metadata": {
        "colab": {
          "base_uri": "https://localhost:8080/"
        },
        "id": "AHj8nWYJURRk",
        "outputId": "aa39fe49-3657-4ced-e6d3-c430f7e3c577"
      },
      "source": [
        "def duplicates(arr,n):\r\n",
        "  arr.sort()\r\n",
        "  for i in range(0,n-2):\r\n",
        "    l = i+1\r\n",
        "    r = n-1\r\n",
        "    while l<r:\r\n",
        "      if arr[i]+arr[l]+arr[r] == k:\r\n",
        "        return True\r\n",
        "      elif arr[i]+arr[l]+arr[r] < k:\r\n",
        "        l+=1\r\n",
        "      else:\r\n",
        "        r-=1\r\n",
        "    return False\r\n",
        "\r\n",
        "\r\n",
        "arr = [1,8,4,3,6,7,4]\r\n",
        "k = 13\r\n",
        "n = len(arr)\r\n",
        "print(duplicates(arr,n))\r\n"
      ],
      "execution_count": null,
      "outputs": [
        {
          "output_type": "stream",
          "text": [
            "True\n"
          ],
          "name": "stdout"
        }
      ]
    },
    {
      "cell_type": "code",
      "metadata": {
        "colab": {
          "base_uri": "https://localhost:8080/"
        },
        "id": "JbHhK_rLUy5k",
        "outputId": "8d53b58b-8d1c-4715-bcf6-3a339b7d0d04"
      },
      "source": [
        "def hash(arr,n,k):\r\n",
        " \r\n",
        "  for i in range(0,n-1):\r\n",
        "     hs = set()\r\n",
        "     curr = k - arr[i]\r\n",
        "     for j in range(i+1,n):\r\n",
        "\r\n",
        "       if (curr- arr[j]) in hs:\r\n",
        "          print(\"Triplet is\", arr[i], \", \", arr[j], \", \", curr-arr[j]) \r\n",
        "          return True\r\n",
        "       hs.add(arr[j]) \r\n",
        "     return False\r\n",
        "arr = [1,8,4,3,6,7,4]\r\n",
        "k = 13\r\n",
        "n = len(arr)\r\n",
        "print(hash(arr,n,k))\r\n"
      ],
      "execution_count": null,
      "outputs": [
        {
          "output_type": "stream",
          "text": [
            "Triplet is 1 ,  4 ,  8\n",
            "True\n"
          ],
          "name": "stdout"
        }
      ]
    },
    {
      "cell_type": "code",
      "metadata": {
        "colab": {
          "base_uri": "https://localhost:8080/"
        },
        "id": "tTxHzKxpc40p",
        "outputId": "dbc6b460-09e1-4c0c-beca-084ee0f2a9b4"
      },
      "source": [
        "def duplii(arr,n):\r\n",
        "  min =-1 \r\n",
        "\r\n",
        "  #  intialise the first repeating ele\r\n",
        "  hs = dict()\r\n",
        "  for i in range(0,n):\r\n",
        "    if arr[i] in hs.keys():\r\n",
        "      min = i\r\n",
        "    else:\r\n",
        "      hs[arr[i]]=1\r\n",
        "  if (min != -1):\r\n",
        "    print(\"The first repeating element is\",  \r\n",
        "                                      arr[min]) \r\n",
        "  else:\r\n",
        "    print(\"There are no repeating elements\") \r\n",
        "\r\n",
        "arr = [2,3,5,63,6,63,5,20]\r\n",
        "n = len(arr)\r\n",
        "print(duplii(arr,n))"
      ],
      "execution_count": null,
      "outputs": [
        {
          "output_type": "stream",
          "text": [
            "The first repeating element is 5\n",
            "None\n"
          ],
          "name": "stdout"
        }
      ]
    },
    {
      "cell_type": "code",
      "metadata": {
        "colab": {
          "base_uri": "https://localhost:8080/"
        },
        "id": "ELtsfuhYd2f1",
        "outputId": "953efffb-5b60-45c8-88bf-75adf6910534"
      },
      "source": [
        "def swap(a, i, j):\r\n",
        " \r\n",
        "    temp = a[i]\r\n",
        "    a[i] = a[j]\r\n",
        "    a[j] = temp\r\n",
        " \r\n",
        " \r\n",
        "def partition(a, start, end):\r\n",
        " \r\n",
        "    pIndex = start\r\n",
        " \r\n",
        "    # each time we find a negative number, pIndex is incremented\r\n",
        "    # and that element would be placed before the pivot\r\n",
        "    for i in range(start, end + 1):\r\n",
        "        if a[i] < 0:  # pivot is 0\r\n",
        "            swap(a, i, pIndex)\r\n",
        "            pIndex = pIndex + 1\r\n",
        " \r\n",
        " \r\n",
        "if __name__ == '__main__':\r\n",
        " \r\n",
        "    a = [9, -3, 5, -2, -8, -6, 1, 3]\r\n",
        "    partition(a, 0, len(a) - 1)\r\n",
        "    print(a)"
      ],
      "execution_count": null,
      "outputs": [
        {
          "output_type": "stream",
          "text": [
            "[-3, -2, -8, -6, 5, 9, 1, 3]\n"
          ],
          "name": "stdout"
        }
      ]
    },
    {
      "cell_type": "code",
      "metadata": {
        "colab": {
          "base_uri": "https://localhost:8080/"
        },
        "id": "XVdtDsbvkGJ-",
        "outputId": "6ff747fe-4611-436e-c4c8-b39770cc105b"
      },
      "source": [
        "def segregate(arr,first,second):\r\n",
        "  temp = arr[first]\r\n",
        "  arr[first] = arr[second]\r\n",
        "  arr[second] = temp\r\n",
        "\r\n",
        "def separate(arr,n):\r\n",
        "  left = 0\r\n",
        "  right = n-1\r\n",
        "  while left<right:\r\n",
        "    if arr[left]*-1 == arr[left]:\r\n",
        "      left+=1\r\n",
        "    elif arr[right]*1 == arr[right]:\r\n",
        "      right-=1\r\n",
        "    else:\r\n",
        "      segregate(arr,left,right)\r\n",
        "      left+=1\r\n",
        "      right-=1\r\n",
        "\r\n",
        "\r\n",
        "  return arr\r\n",
        "\r\n",
        "    \r\n",
        "arr = [9, -3, 5, -2, -8, -6, 1, 3]\r\n",
        "n = len(arr)\r\n",
        "separate(arr,n)\r\n",
        "print(arr)"
      ],
      "execution_count": null,
      "outputs": [
        {
          "output_type": "stream",
          "text": [
            "[9, -3, 5, -2, -8, -6, 1, 3]\n"
          ],
          "name": "stdout"
        }
      ]
    },
    {
      "cell_type": "code",
      "metadata": {
        "id": "kbP7m6srOVHr"
      },
      "source": [
        "def spiral(arr,n):\r\n",
        "  m = len(arr)\r\n",
        "  n = len(arr[0])\r\n",
        "  T= 0\r\n",
        "  B= m-1 \r\n",
        "  L =0\r\n",
        "  R=n-1\r\n",
        "  dir = 0\r\n",
        "  k = []\r\n",
        "\r\n",
        "  while T<=B and L<=R:\r\n",
        "  \r\n",
        "    if (dir == 0):\r\n",
        "      for i in range(L,R+1):\r\n",
        "        k.append(arr[T][i])\r\n",
        "        T+=1\r\n",
        "        dir =1\r\n",
        "    elif (dir==1):\r\n",
        "      for i in range(T,B+1):\r\n",
        "        k.append(arr[i][R])\r\n",
        "        R-=1\r\n",
        "        dir =2\r\n",
        "    elif (dir==2):\r\n",
        "      for i in range(R,L-1,-1):\r\n",
        "        k.append(arr[i][R])\r\n",
        "        B-=1\r\n",
        "        dir =3\r\n",
        "    elif (dir==3):\r\n",
        "      for i in range(B+1,T-1,-1):\r\n",
        "        k.append(arr[i][R])\r\n",
        "        L+=1\r\n",
        "        dir =0\r\n",
        "    return k\r\n",
        "\r\n",
        "# arr = [[1,2,3,4],[4,5,6,7][8,9,10,11],[2,3,5,6]]\r\n",
        "# print(spiral(arr,n))\r\n",
        "  \r\n",
        "\r\n",
        "      \r\n"
      ],
      "execution_count": null,
      "outputs": []
    },
    {
      "cell_type": "code",
      "metadata": {
        "colab": {
          "base_uri": "https://localhost:8080/"
        },
        "id": "mIawd3TiaMt7",
        "outputId": "98f7ddd4-b4b8-4493-842d-7a26b128abdc"
      },
      "source": [
        "   def solve(A):\r\n",
        "        if A == 0 or A == 1:\r\n",
        "            return 1\r\n",
        "        num = 1\r\n",
        "        while (A > 1):\r\n",
        "            num = num * A\r\n",
        "            A -= 1\r\n",
        "        return str(num)\r\n",
        "\r\n",
        "\r\n",
        "A = 3\r\n",
        "print(solve(3))"
      ],
      "execution_count": null,
      "outputs": [
        {
          "output_type": "stream",
          "text": [
            "6\n"
          ],
          "name": "stdout"
        }
      ]
    },
    {
      "cell_type": "code",
      "metadata": {
        "id": "qNIlH3H7aw8P"
      },
      "source": [
        "def fact(A):\r\n",
        "  if A==1 and A==0:\r\n",
        "    return 1\r\n",
        "  num =1\r\n",
        "  while (A>1):\r\n",
        "    num= num*A\r\n",
        "    A-=1\r\n"
      ],
      "execution_count": null,
      "outputs": []
    },
    {
      "cell_type": "code",
      "metadata": {
        "id": "cmLYS8Kxdg7T",
        "colab": {
          "base_uri": "https://localhost:8080/"
        },
        "outputId": "5bb8bf64-9fb4-4a0f-993c-52800ac4a3cd"
      },
      "source": [
        "def shortestPath(p1, p2): \r\n",
        "      \r\n",
        "    # dx is total horizontal \r\n",
        "    # distance to be covered \r\n",
        "    dx = abs(p1[0] - p2[0]) \r\n",
        "      \r\n",
        "    # dy is total vertical \r\n",
        "    # distance to be covered \r\n",
        "    dy = abs(p1[1] - p2[1]) \r\n",
        "      \r\n",
        "    # required answer is \r\n",
        "    # maximum of these two \r\n",
        "    return max(dx, dy) \r\n",
        "      \r\n",
        "# Function to return the minimum steps \r\n",
        "def coverPoints(sequence, size): \r\n",
        "      \r\n",
        "    stepCount = 0\r\n",
        "      \r\n",
        "    # finding steps for each \r\n",
        "    # consecutive poin the sequence \r\n",
        "    for i in range(size-1): \r\n",
        "        stepCount += shortestPath(sequence[i],sequence[i + 1]) \r\n",
        "          \r\n",
        "    return stepCount \r\n",
        "  \r\n",
        "# Driver code \r\n",
        "# arr stores sequence of points \r\n",
        "# that are to be visited \r\n",
        "arr =  [[4, 6] ,[ 1, 2 ], [ 4, 5] , [ 10, 12]]   \r\n",
        "  \r\n",
        "n = len(arr) \r\n",
        "print(coverPoints(arr, n)) "
      ],
      "execution_count": null,
      "outputs": [
        {
          "output_type": "stream",
          "text": [
            "14\n"
          ],
          "name": "stdout"
        }
      ]
    },
    {
      "cell_type": "code",
      "metadata": {
        "colab": {
          "base_uri": "https://localhost:8080/"
        },
        "id": "R1J43068214k",
        "outputId": "6d3f616f-5bde-4659-8916-71ef72cca97a"
      },
      "source": [
        "def longestSubarry(arr,n): \r\n",
        "  \r\n",
        "    # Initialize result \r\n",
        "    res = 0 \r\n",
        "  \r\n",
        "    # Traverse array \r\n",
        "    for i in range(n): \r\n",
        "      \r\n",
        "        # Count of current  \r\n",
        "        # non-negative integers \r\n",
        "        curr_count = 0\r\n",
        "        while (i < n and arr[i] >= 0): \r\n",
        "      \r\n",
        "            curr_count+=1\r\n",
        "            i+=1\r\n",
        "      \r\n",
        "        # Update result if required. \r\n",
        "        res = max(res, curr_count) \r\n",
        "      \r\n",
        "    return res \r\n",
        "  \r\n",
        "  \r\n",
        "# Driver code \r\n",
        "  \r\n",
        "arr= [1, 0, 4, 0, 1, -1, -1, 0, 0, 1, 0] \r\n",
        "n = len(arr) \r\n",
        "print(longestSubarry(arr, n)) "
      ],
      "execution_count": null,
      "outputs": [
        {
          "output_type": "stream",
          "text": [
            "5\n"
          ],
          "name": "stdout"
        }
      ]
    },
    {
      "cell_type": "code",
      "metadata": {
        "colab": {
          "base_uri": "https://localhost:8080/"
        },
        "id": "SSq4fKEXGv5M",
        "outputId": "1def607f-7b70-4145-875e-a2f19018b394"
      },
      "source": [
        "def maxsub(arr,n):\r\n",
        "  maxsumlist = []\r\n",
        "  currsumlist = []\r\n",
        "  maxsum = 0\r\n",
        "  currsum = 0\r\n",
        "\r\n",
        "\r\n",
        "  for i in arr:\r\n",
        "    if (i>=0):\r\n",
        "      currsum = currsum+i\r\n",
        "      currsumlist.append(i)\r\n",
        "\r\n",
        "      if (currsum>maxsum):\r\n",
        "        maxsum = currsum\r\n",
        "        maxsumlist = currsumlist\r\n",
        "\r\n",
        "\r\n",
        "      elif (currsum==maxsum):\r\n",
        "        if len(currsumlist)>len(maxsumlist):\r\n",
        "          maxsumlist = currsumlist\r\n",
        "\r\n",
        "\r\n",
        "    elif(i<0):\r\n",
        "      currsum = 0\r\n",
        "      currsumlist = []\r\n",
        "  return maxsumlist\r\n",
        "arr= [1,-2,1,-4,1,6,8,0] \r\n",
        "n = len(arr) \r\n",
        "print(maxsub(arr, n)) \r\n",
        "\r\n",
        "\r\n"
      ],
      "execution_count": null,
      "outputs": [
        {
          "output_type": "stream",
          "text": [
            "[1, 6, 8, 0]\n"
          ],
          "name": "stdout"
        }
      ]
    },
    {
      "cell_type": "code",
      "metadata": {
        "id": "jX70cPKcwukS",
        "colab": {
          "base_uri": "https://localhost:8080/",
          "height": 340
        },
        "outputId": "55b52ec8-9b7e-47e6-bcf8-3390735a05a0"
      },
      "source": [
        "def steps(A,B):\r\n",
        "  stepps = 0\r\n",
        "  for i in range(0,n-1):\r\n",
        "    PT1 = A[i]-B[i]\r\n",
        "\r\n",
        "    PT2= A[i+1]-B[i+1] \r\n",
        "\r\n",
        "    distance(PT1,PT2)\r\n",
        "    stepps += distance\r\n",
        "  return stepps\r\n",
        "\r\n",
        "def distance(PT1,PT2):\r\n",
        "  return max(abs(PT1[0]-PT2[0]),abs(PT1[1]-PT2[1]))\r\n",
        "\r\n",
        "\r\n",
        "A= [0, 1, 1]\r\n",
        "B = [0, 1, 2]\r\n",
        "n = len(A)\r\n",
        "print(steps(A,B))"
      ],
      "execution_count": null,
      "outputs": [
        {
          "output_type": "error",
          "ename": "TypeError",
          "evalue": "ignored",
          "traceback": [
            "\u001b[0;31m---------------------------------------------------------------------------\u001b[0m",
            "\u001b[0;31mTypeError\u001b[0m                                 Traceback (most recent call last)",
            "\u001b[0;32m<ipython-input-10-5b4c63855a55>\u001b[0m in \u001b[0;36m<module>\u001b[0;34m()\u001b[0m\n\u001b[1;32m     17\u001b[0m \u001b[0mB\u001b[0m \u001b[0;34m=\u001b[0m \u001b[0;34m[\u001b[0m\u001b[0;36m0\u001b[0m\u001b[0;34m,\u001b[0m \u001b[0;36m1\u001b[0m\u001b[0;34m,\u001b[0m \u001b[0;36m2\u001b[0m\u001b[0;34m]\u001b[0m\u001b[0;34m\u001b[0m\u001b[0;34m\u001b[0m\u001b[0m\n\u001b[1;32m     18\u001b[0m \u001b[0mn\u001b[0m \u001b[0;34m=\u001b[0m \u001b[0mlen\u001b[0m\u001b[0;34m(\u001b[0m\u001b[0mA\u001b[0m\u001b[0;34m)\u001b[0m\u001b[0;34m\u001b[0m\u001b[0;34m\u001b[0m\u001b[0m\n\u001b[0;32m---> 19\u001b[0;31m \u001b[0mprint\u001b[0m\u001b[0;34m(\u001b[0m\u001b[0msteps\u001b[0m\u001b[0;34m(\u001b[0m\u001b[0mA\u001b[0m\u001b[0;34m,\u001b[0m\u001b[0mB\u001b[0m\u001b[0;34m)\u001b[0m\u001b[0;34m)\u001b[0m\u001b[0;34m\u001b[0m\u001b[0;34m\u001b[0m\u001b[0m\n\u001b[0m",
            "\u001b[0;32m<ipython-input-10-5b4c63855a55>\u001b[0m in \u001b[0;36msteps\u001b[0;34m(A, B)\u001b[0m\n\u001b[1;32m      6\u001b[0m     \u001b[0mPT2\u001b[0m\u001b[0;34m=\u001b[0m \u001b[0mA\u001b[0m\u001b[0;34m[\u001b[0m\u001b[0mi\u001b[0m\u001b[0;34m+\u001b[0m\u001b[0;36m1\u001b[0m\u001b[0;34m]\u001b[0m\u001b[0;34m-\u001b[0m\u001b[0mB\u001b[0m\u001b[0;34m[\u001b[0m\u001b[0mi\u001b[0m\u001b[0;34m+\u001b[0m\u001b[0;36m1\u001b[0m\u001b[0;34m]\u001b[0m\u001b[0;34m\u001b[0m\u001b[0;34m\u001b[0m\u001b[0m\n\u001b[1;32m      7\u001b[0m \u001b[0;34m\u001b[0m\u001b[0m\n\u001b[0;32m----> 8\u001b[0;31m     \u001b[0mdistance\u001b[0m\u001b[0;34m(\u001b[0m\u001b[0mPT1\u001b[0m\u001b[0;34m,\u001b[0m\u001b[0mPT2\u001b[0m\u001b[0;34m)\u001b[0m\u001b[0;34m\u001b[0m\u001b[0;34m\u001b[0m\u001b[0m\n\u001b[0m\u001b[1;32m      9\u001b[0m     \u001b[0mstepps\u001b[0m \u001b[0;34m+=\u001b[0m \u001b[0mdistance\u001b[0m\u001b[0;34m\u001b[0m\u001b[0;34m\u001b[0m\u001b[0m\n\u001b[1;32m     10\u001b[0m   \u001b[0;32mreturn\u001b[0m \u001b[0mstepps\u001b[0m\u001b[0;34m\u001b[0m\u001b[0;34m\u001b[0m\u001b[0m\n",
            "\u001b[0;32m<ipython-input-10-5b4c63855a55>\u001b[0m in \u001b[0;36mdistance\u001b[0;34m(PT1, PT2)\u001b[0m\n\u001b[1;32m     11\u001b[0m \u001b[0;34m\u001b[0m\u001b[0m\n\u001b[1;32m     12\u001b[0m \u001b[0;32mdef\u001b[0m \u001b[0mdistance\u001b[0m\u001b[0;34m(\u001b[0m\u001b[0mPT1\u001b[0m\u001b[0;34m,\u001b[0m\u001b[0mPT2\u001b[0m\u001b[0;34m)\u001b[0m\u001b[0;34m:\u001b[0m\u001b[0;34m\u001b[0m\u001b[0;34m\u001b[0m\u001b[0m\n\u001b[0;32m---> 13\u001b[0;31m   \u001b[0;32mreturn\u001b[0m \u001b[0mmax\u001b[0m\u001b[0;34m(\u001b[0m\u001b[0mabs\u001b[0m\u001b[0;34m(\u001b[0m\u001b[0mPT1\u001b[0m\u001b[0;34m[\u001b[0m\u001b[0;36m0\u001b[0m\u001b[0;34m]\u001b[0m\u001b[0;34m-\u001b[0m\u001b[0mPT2\u001b[0m\u001b[0;34m[\u001b[0m\u001b[0;36m0\u001b[0m\u001b[0;34m]\u001b[0m\u001b[0;34m)\u001b[0m\u001b[0;34m,\u001b[0m\u001b[0mabs\u001b[0m\u001b[0;34m(\u001b[0m\u001b[0mPT1\u001b[0m\u001b[0;34m[\u001b[0m\u001b[0;36m1\u001b[0m\u001b[0;34m]\u001b[0m\u001b[0;34m-\u001b[0m\u001b[0mPT2\u001b[0m\u001b[0;34m[\u001b[0m\u001b[0;36m1\u001b[0m\u001b[0;34m]\u001b[0m\u001b[0;34m)\u001b[0m\u001b[0;34m)\u001b[0m\u001b[0;34m\u001b[0m\u001b[0;34m\u001b[0m\u001b[0m\n\u001b[0m\u001b[1;32m     14\u001b[0m \u001b[0;34m\u001b[0m\u001b[0m\n\u001b[1;32m     15\u001b[0m \u001b[0;34m\u001b[0m\u001b[0m\n",
            "\u001b[0;31mTypeError\u001b[0m: 'int' object is not subscriptable"
          ]
        }
      ]
    },
    {
      "cell_type": "code",
      "metadata": {
        "id": "LyaGgRr-52w7"
      },
      "source": [
        "class Node:\r\n",
        "  def __init__(self,data):\r\n",
        "    self.data = data\r\n",
        "    self.next = None\r\n",
        "\r\n",
        "\r\n",
        "class LinkedList:\r\n",
        "    def __init__(self):\r\n",
        "      self.head = head\r\n",
        "\r\n",
        "# //insert at the beginning\r\n",
        "    def insert(self):\r\n",
        "\r\n",
        "\r\n",
        "\r\n",
        "\r\n",
        "# //insert at the specified position\r\n",
        "    def insertat(self,prev):\r\n",
        "\r\n",
        "\r\n",
        "\r\n",
        "# //insert at the end\r\n",
        "    def append(self):\r\n",
        "\r\n",
        "\r\n",
        "    def print(self):\r\n",
        "      temp = self.head\r\n",
        "      while (temp):\r\n",
        "        print temp.data, \r\n",
        "        temp = temp.next\r\n",
        "\r\n",
        "\r\n",
        "\r\n",
        "if __name__ == '__main__':\r\n",
        "  \r\n",
        "\r\n"
      ],
      "execution_count": null,
      "outputs": []
    }
  ]
}